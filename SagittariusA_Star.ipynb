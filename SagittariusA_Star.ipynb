{
  "nbformat": 4,
  "nbformat_minor": 0,
  "metadata": {
    "colab": {
      "name": "SagittariusA_Star.ipynb",
      "version": "0.3.2",
      "provenance": [],
      "include_colab_link": true
    },
    "kernelspec": {
      "display_name": "Python 3",
      "language": "python",
      "name": "python3"
    }
  },
  "cells": [
    {
      "cell_type": "markdown",
      "metadata": {
        "id": "view-in-github",
        "colab_type": "text"
      },
      "source": [
        "<a href=\"https://colab.research.google.com/github/kevinmcmanus/Astrophysics/blob/master/SagittariusA_Star.ipynb\" target=\"_parent\"><img src=\"https://colab.research.google.com/assets/colab-badge.svg\" alt=\"Open In Colab\"/></a>"
      ]
    },
    {
      "metadata": {
        "id": "OqQ513CQHE_t",
        "colab_type": "text"
      },
      "cell_type": "markdown",
      "source": [
        "# Sagittarius A*\n",
        "Sagittarius A* is near the center of the Milky Way Galaxy. Therefore it's galactic longitude and latitude should be close to (0,0), we'll verify this. Also, we'll compute transit times for SagA* for the summer and winter solstices, to see if we're looking toward the center of the Milky Way in the summer or the winter."
      ]
    },
    {
      "metadata": {
        "id": "iTjRiVg2HE_2",
        "colab_type": "code",
        "colab": {}
      },
      "cell_type": "code",
      "source": [
        "# Python 3.x\n",
        "from urllib.parse import urlencode\n",
        "from urllib.request import urlretrieve"
      ],
      "execution_count": 0,
      "outputs": []
    },
    {
      "metadata": {
        "id": "tSiiSJnVHFAK",
        "colab_type": "code",
        "colab": {}
      },
      "cell_type": "code",
      "source": [
        "import numpy as np\n",
        "import IPython.display"
      ],
      "execution_count": 0,
      "outputs": []
    },
    {
      "metadata": {
        "id": "FLEISvSTHFAW",
        "colab_type": "code",
        "colab": {}
      },
      "cell_type": "code",
      "source": [
        "%matplotlib inline\n",
        "from matplotlib import pyplot as plt"
      ],
      "execution_count": 0,
      "outputs": []
    },
    {
      "metadata": {
        "id": "i_pQIYBnHFAd",
        "colab_type": "code",
        "colab": {}
      },
      "cell_type": "code",
      "source": [
        "from astropy import units as u\n",
        "from astropy.coordinates import SkyCoord\n",
        "from astropy.table import Table"
      ],
      "execution_count": 0,
      "outputs": []
    },
    {
      "metadata": {
        "id": "WsU6tuKbHFAj",
        "colab_type": "code",
        "colab": {}
      },
      "cell_type": "code",
      "source": [
        "SagAStar = SkyCoord.from_name(\"Sagittarius A*\")"
      ],
      "execution_count": 0,
      "outputs": []
    },
    {
      "metadata": {
        "id": "uf0IaycHHFAr",
        "colab_type": "code",
        "colab": {
          "base_uri": "https://localhost:8080/",
          "height": 51
        },
        "outputId": "8da683e4-2b2a-4731-a8ac-e9bd5c054044"
      },
      "cell_type": "code",
      "source": [
        "SagAStar"
      ],
      "execution_count": 6,
      "outputs": [
        {
          "output_type": "execute_result",
          "data": {
            "text/plain": [
              "<SkyCoord (ICRS): (ra, dec) in deg\n",
              "    (266.41681663, -29.00782497)>"
            ]
          },
          "metadata": {
            "tags": []
          },
          "execution_count": 6
        }
      ]
    },
    {
      "metadata": {
        "id": "CFhuVEg9HFA7",
        "colab_type": "code",
        "colab": {
          "base_uri": "https://localhost:8080/",
          "height": 34
        },
        "outputId": "045398d3-f87c-4c48-8458-b594d749119d"
      },
      "cell_type": "code",
      "source": [
        "SagAStar.dec.to_string()"
      ],
      "execution_count": 7,
      "outputs": [
        {
          "output_type": "execute_result",
          "data": {
            "text/plain": [
              "'-29d00m28.1699s'"
            ]
          },
          "metadata": {
            "tags": []
          },
          "execution_count": 7
        }
      ]
    },
    {
      "metadata": {
        "id": "SNFkP3D4HFBA",
        "colab_type": "code",
        "colab": {}
      },
      "cell_type": "code",
      "source": [
        "#SagAStar.ra.hms.to_string()"
      ],
      "execution_count": 0,
      "outputs": []
    },
    {
      "metadata": {
        "id": "ePs65vv_HFBE",
        "colab_type": "code",
        "colab": {
          "base_uri": "https://localhost:8080/",
          "height": 34
        },
        "outputId": "371b8919-ed18-4873-c8e3-a0ec3faa92cf"
      },
      "cell_type": "code",
      "source": [
        "'%d %d %f'%SagAStar.ra.hms + ' %d %d %f'%SagAStar.dec.dms"
      ],
      "execution_count": 8,
      "outputs": [
        {
          "output_type": "execute_result",
          "data": {
            "text/plain": [
              "'17 45 40.035990 -29 0 -28.169899'"
            ]
          },
          "metadata": {
            "tags": []
          },
          "execution_count": 8
        }
      ]
    },
    {
      "metadata": {
        "id": "1xbX8s8oHFBI",
        "colab_type": "code",
        "colab": {
          "base_uri": "https://localhost:8080/",
          "height": 34
        },
        "outputId": "ff527df1-2f3a-40d5-cadb-6d0af8e78813"
      },
      "cell_type": "code",
      "source": [
        "SagAStar.dec"
      ],
      "execution_count": 9,
      "outputs": [
        {
          "output_type": "execute_result",
          "data": {
            "text/latex": "$-29^\\circ00{}^\\prime28.1699{}^{\\prime\\prime}$",
            "text/plain": [
              "<Latitude -29.00782497 deg>"
            ]
          },
          "metadata": {
            "tags": []
          },
          "execution_count": 9
        }
      ]
    },
    {
      "metadata": {
        "id": "ESE_sOWYHFBP",
        "colab_type": "text"
      },
      "cell_type": "markdown",
      "source": [
        "If Sagittarius A* is at the center of the universe, its galactic coords should both be close to zero. Let's see."
      ]
    },
    {
      "metadata": {
        "id": "zpJEIZgcHFBQ",
        "colab_type": "code",
        "colab": {
          "base_uri": "https://localhost:8080/",
          "height": 51
        },
        "outputId": "15b3a559-aea0-46db-9645-217ad56e078c"
      },
      "cell_type": "code",
      "source": [
        "SagAStar.galactic"
      ],
      "execution_count": 10,
      "outputs": [
        {
          "output_type": "execute_result",
          "data": {
            "text/plain": [
              "<SkyCoord (Galactic): (l, b) in deg\n",
              "    (359.94423568, -0.04616002)>"
            ]
          },
          "metadata": {
            "tags": []
          },
          "execution_count": 10
        }
      ]
    },
    {
      "metadata": {
        "id": "MITZZ56cHFBU",
        "colab_type": "text"
      },
      "cell_type": "markdown",
      "source": [
        "So not too far from (0,0)"
      ]
    },
    {
      "metadata": {
        "id": "OxcAdXesHFBV",
        "colab_type": "text"
      },
      "cell_type": "markdown",
      "source": [
        "## Observer Location"
      ]
    },
    {
      "metadata": {
        "id": "PWITFU88HFBW",
        "colab_type": "code",
        "colab": {}
      },
      "cell_type": "code",
      "source": [
        "from astropy.coordinates import EarthLocation"
      ],
      "execution_count": 0,
      "outputs": []
    },
    {
      "metadata": {
        "id": "sJFzdfhbHFBa",
        "colab_type": "code",
        "colab": {
          "base_uri": "https://localhost:8080/",
          "height": 34
        },
        "outputId": "6f638dda-657c-435d-d9d6-42901836bdab"
      },
      "cell_type": "code",
      "source": [
        "# earth location for LTO\n",
        "# LTO Berthoud CO\n",
        "LTO_Latitude = 40.2994909\n",
        "LTO_Longitude = -105.0848287\n",
        "LTO_Elevation = 5049 #feet\n",
        "\n",
        "#convert feet to meters\n",
        "LTO_Elevation_m = (LTO_Elevation*u.imperial.ft).to(u.m)\n",
        "LTO_Elevation_m\n",
        "\n",
        "LTO = EarthLocation(lat=LTO_Latitude*u.degree, lon=LTO_Longitude*u.degree, height=LTO_Elevation_m)\n",
        "LTO"
      ],
      "execution_count": 12,
      "outputs": [
        {
          "output_type": "execute_result",
          "data": {
            "text/latex": "$(-1268046.7, -4704542.5, 4104399.5) \\; \\mathrm{m}$",
            "text/plain": [
              "<EarthLocation (-1268046.68608506, -4704542.52560169, 4104399.54327687) m>"
            ]
          },
          "metadata": {
            "tags": []
          },
          "execution_count": 12
        }
      ]
    },
    {
      "metadata": {
        "id": "o6iTy0RjHFBf",
        "colab_type": "code",
        "colab": {
          "base_uri": "https://localhost:8080/",
          "height": 34
        },
        "outputId": "28ab8e29-001b-4286-a710-1c415fa36999"
      },
      "cell_type": "code",
      "source": [
        "LTO.lat\n"
      ],
      "execution_count": 13,
      "outputs": [
        {
          "output_type": "execute_result",
          "data": {
            "text/latex": "$40^\\circ17{}^\\prime58.1672{}^{\\prime\\prime}$",
            "text/plain": [
              "<Latitude 40.2994909 deg>"
            ]
          },
          "metadata": {
            "tags": []
          },
          "execution_count": 13
        }
      ]
    },
    {
      "metadata": {
        "id": "hRzDFK4HHzs7",
        "colab_type": "code",
        "colab": {
          "base_uri": "https://localhost:8080/",
          "height": 241
        },
        "outputId": "bc67daad-e5b0-4c78-c2ad-58dc62e9234d"
      },
      "cell_type": "code",
      "source": [
        "!pip install astroplan\n"
      ],
      "execution_count": 15,
      "outputs": [
        {
          "output_type": "stream",
          "text": [
            "Collecting astroplan\n",
            "\u001b[?25l  Downloading https://files.pythonhosted.org/packages/a0/10/c292c84060d1c5cdf9f22b11b1162714a3c725d8ef365c484596efdd938c/astroplan-0.4.tar.gz (266kB)\n",
            "\u001b[K    100% |████████████████████████████████| 276kB 10.3MB/s \n",
            "\u001b[?25hRequirement already satisfied: numpy>=1.10 in /usr/local/lib/python3.6/dist-packages (from astroplan) (1.14.6)\n",
            "Requirement already satisfied: astropy>=1.3 in /usr/local/lib/python3.6/dist-packages (from astroplan) (3.0.5)\n",
            "Requirement already satisfied: pytz in /usr/local/lib/python3.6/dist-packages (from astroplan) (2018.9)\n",
            "Building wheels for collected packages: astroplan\n",
            "  Building wheel for astroplan (setup.py) ... \u001b[?25ldone\n",
            "\u001b[?25h  Stored in directory: /root/.cache/pip/wheels/ea/4d/8e/765bbe02bf38e8bb2e7f400d30b1e1483c264f60776807fe2b\n",
            "Successfully built astroplan\n",
            "Installing collected packages: astroplan\n",
            "Successfully installed astroplan-0.4\n"
          ],
          "name": "stdout"
        }
      ]
    },
    {
      "metadata": {
        "id": "rLwF2Fw4HFBk",
        "colab_type": "code",
        "colab": {}
      },
      "cell_type": "code",
      "source": [
        "from astropy.time import Time\n",
        "from astroplan import Observer"
      ],
      "execution_count": 0,
      "outputs": []
    },
    {
      "metadata": {
        "id": "bOldecTfHFBp",
        "colab_type": "code",
        "colab": {}
      },
      "cell_type": "code",
      "source": [
        "ltort = Observer(location=LTO, name=\"ltort\", description = \"Little Thomposon Observatory Radio Telescope\",\n",
        "                 timezone=\"US/Mountain\")"
      ],
      "execution_count": 0,
      "outputs": []
    },
    {
      "metadata": {
        "id": "-rh0BIeIHFBu",
        "colab_type": "code",
        "colab": {
          "base_uri": "https://localhost:8080/",
          "height": 68
        },
        "outputId": "08202026-a42c-4523-da30-d5e24d5a1c07"
      },
      "cell_type": "code",
      "source": [
        "ltort"
      ],
      "execution_count": 18,
      "outputs": [
        {
          "output_type": "execute_result",
          "data": {
            "text/plain": [
              "<Observer: name='ltort',\n",
              "    location (lon, lat, el)=(-105.0848287 deg, 40.2994909 deg, 1538.9351999992368 m),\n",
              "    timezone=<DstTzInfo 'US/Mountain' LMT-1 day, 17:00:00 STD>>"
            ]
          },
          "metadata": {
            "tags": []
          },
          "execution_count": 18
        }
      ]
    },
    {
      "metadata": {
        "id": "I3KYL9x-HFBz",
        "colab_type": "code",
        "colab": {}
      },
      "cell_type": "code",
      "source": [
        "winter_solstice = Time('2018-12-21 18:00') #6pm Berthoud time\n",
        "summer_solstice = Time('2019-06-21 18:00')"
      ],
      "execution_count": 0,
      "outputs": []
    },
    {
      "metadata": {
        "id": "kvvlt3HQHFB2",
        "colab_type": "text"
      },
      "cell_type": "markdown",
      "source": [
        "Let's do M42 first. M42 is the Orion nebula and should be transiting sometime in the evening in the Winter sky."
      ]
    },
    {
      "metadata": {
        "id": "hOzOoLIAHFB3",
        "colab_type": "code",
        "colab": {}
      },
      "cell_type": "code",
      "source": [
        "#get coords for M42\n",
        "M42 = SkyCoord.from_name('M42')"
      ],
      "execution_count": 0,
      "outputs": []
    },
    {
      "metadata": {
        "id": "VJesBehgHFB5",
        "colab_type": "code",
        "colab": {},
        "outputId": "b2f8cb63-d593-49b7-83b3-b981a4f3f0ce"
      },
      "cell_type": "code",
      "source": [
        "M42.dec.to_string()"
      ],
      "execution_count": 0,
      "outputs": [
        {
          "output_type": "execute_result",
          "data": {
            "text/plain": [
              "'-5d23m27.996s'"
            ]
          },
          "metadata": {
            "tags": []
          },
          "execution_count": 21
        }
      ]
    },
    {
      "metadata": {
        "id": "fqlIkBUCHFB-",
        "colab_type": "code",
        "colab": {},
        "outputId": "ef692cad-a5eb-46de-a627-6f03f3d733ea"
      },
      "cell_type": "code",
      "source": [
        "'%d %d %f'%M42.ra.hms + ' %d %d %f'%M42.dec.dms"
      ],
      "execution_count": 0,
      "outputs": [
        {
          "output_type": "execute_result",
          "data": {
            "text/plain": [
              "'5 35 17.299200 -5 -23 -27.996000'"
            ]
          },
          "metadata": {
            "tags": []
          },
          "execution_count": 24
        }
      ]
    },
    {
      "metadata": {
        "id": "FGPmtNaoHFCC",
        "colab_type": "code",
        "colab": {},
        "outputId": "240f056f-fb25-49ce-f1c7-2d24606014d9"
      },
      "cell_type": "code",
      "source": [
        "M42_winter_transit = ltort.target_meridian_transit_time(winter_solstice, M42, which='next')\n",
        "print(\"ISO: {0.iso}, JD: {0.jd}\".format(M42_winter_transit)) "
      ],
      "execution_count": 0,
      "outputs": [
        {
          "output_type": "stream",
          "text": [
            "ISO: 2018-12-22 06:33:29.496, JD: 2458474.773258053\n"
          ],
          "name": "stdout"
        }
      ]
    },
    {
      "metadata": {
        "id": "PB8cTVWbHFCF",
        "colab_type": "code",
        "colab": {},
        "outputId": "f31719c0-57f5-43bc-ae2f-4da450168f91"
      },
      "cell_type": "code",
      "source": [
        "#print(t.to_datetime(timezone=utc_plus_one_hour)) # to timezone-aware datetime\n",
        "from datetime import datetime\n",
        "from astropy.time import Time, TimezoneInfo\n",
        "utc_minus_seven_hours = TimezoneInfo(utc_offset=-7*u.hour)\n",
        "print(M42_winter_transit.to_datetime(timezone = utc_minus_seven_hours))"
      ],
      "execution_count": 0,
      "outputs": [
        {
          "output_type": "stream",
          "text": [
            "2018-12-21 23:33:29.495799-07:00\n"
          ],
          "name": "stdout"
        }
      ]
    },
    {
      "metadata": {
        "id": "bUqQHPGPHFCK",
        "colab_type": "text"
      },
      "cell_type": "markdown",
      "source": [
        "So M42 transits about 11:33 PM over LTO on December 21. Sounds right. Now for the summer transit:"
      ]
    },
    {
      "metadata": {
        "id": "ZGz1pqwwHFCL",
        "colab_type": "code",
        "colab": {},
        "outputId": "911e8405-278f-47f1-a8ae-473105836350"
      },
      "cell_type": "code",
      "source": [
        "M42_summer_transit = ltort.target_meridian_transit_time(summer_solstice, M42, which='next')\n",
        "print(M42_summer_transit.to_datetime(timezone = utc_minus_seven_hours))"
      ],
      "execution_count": 0,
      "outputs": [
        {
          "output_type": "stream",
          "text": [
            "2019-06-21 11:37:52.903986-07:00\n"
          ],
          "name": "stdout"
        }
      ]
    },
    {
      "metadata": {
        "id": "2QVGtNBmHFCQ",
        "colab_type": "text"
      },
      "cell_type": "markdown",
      "source": [
        "Roughly 11:37 AM (12:37 PM in June adjusting for DST) which also sounds about right. Now let'd do the same exercise for SagA*"
      ]
    },
    {
      "metadata": {
        "id": "FCUPC2Z3HFCR",
        "colab_type": "code",
        "colab": {},
        "outputId": "31bb069c-17b5-447c-e2b3-23c695a9ade4"
      },
      "cell_type": "code",
      "source": [
        "SagAStar_winter_transit = ltort.target_meridian_transit_time(winter_solstice, SagAStar, which='next')\n",
        "SagAStar_summer_transit = ltort.target_meridian_transit_time(summer_solstice, SagAStar, which='next')\n",
        "print('Winter Transit:'+ str(SagAStar_winter_transit.to_datetime(timezone = utc_minus_seven_hours)))\n",
        "print('Summer Transit:'+ str(SagAStar_summer_transit.to_datetime(timezone = utc_minus_seven_hours)))"
      ],
      "execution_count": 0,
      "outputs": [
        {
          "output_type": "stream",
          "text": [
            "Winter Transit:2018-12-21 11:46:01.638249-07:00\n",
            "Summer Transit:2019-06-21 23:46:35.314430-07:00\n"
          ],
          "name": "stdout"
        }
      ]
    },
    {
      "metadata": {
        "id": "IUgE9swNHFCU",
        "colab_type": "text"
      },
      "cell_type": "markdown",
      "source": [
        "This suggests that during the summer, looking due south at 11:30 PM (12:30 AM local time) we're looking at the center of the Milky Way"
      ]
    },
    {
      "metadata": {
        "id": "cqNBCHxpHFCV",
        "colab_type": "code",
        "colab": {},
        "outputId": "bd6fec13-21a0-4690-d3c5-c5915a5505c5"
      },
      "cell_type": "code",
      "source": [
        "from astropy.coordinates import AltAz\n",
        "\n",
        "aa = AltAz(location=LTO, obstime=SagAStar_summer_transit)\n",
        "aa"
      ],
      "execution_count": 0,
      "outputs": [
        {
          "output_type": "execute_result",
          "data": {
            "text/plain": [
              "<AltAz Frame (obstime=2458656.7823531763, location=(-1268046.686085056, -4704542.525601694, 4104399.5432768688) m, pressure=0.0 hPa, temperature=0.0 deg_C, relative_humidity=0, obswl=1.0 micron)>"
            ]
          },
          "metadata": {
            "tags": []
          },
          "execution_count": 29
        }
      ]
    },
    {
      "metadata": {
        "id": "fPmmST5XHFCZ",
        "colab_type": "text"
      },
      "cell_type": "markdown",
      "source": [
        "Telescope coordinates. Azimuth should be close to 180 degrees."
      ]
    },
    {
      "metadata": {
        "id": "dqUR_ZToHFCa",
        "colab_type": "code",
        "colab": {},
        "outputId": "3f7a604f-965a-4f12-a1b7-18252c742e3c"
      },
      "cell_type": "code",
      "source": [
        "SagAStar.transform_to(aa)"
      ],
      "execution_count": 0,
      "outputs": [
        {
          "output_type": "execute_result",
          "data": {
            "text/plain": [
              "<SkyCoord (AltAz: obstime=2458656.7823531763, location=(-1268046.686085056, -4704542.525601694, 4104399.5432768688) m, pressure=0.0 hPa, temperature=0.0 deg_C, relative_humidity=0, obswl=1.0 micron): (az, alt) in deg\n",
              "    ( 179.99993513,  20.68698533)>"
            ]
          },
          "metadata": {
            "tags": []
          },
          "execution_count": 30
        }
      ]
    },
    {
      "metadata": {
        "id": "2zA8V0NeHFCh",
        "colab_type": "text"
      },
      "cell_type": "markdown",
      "source": [
        "For my 5 AM morning walks, say February 18, 2019:"
      ]
    },
    {
      "metadata": {
        "id": "doZ-13YOHFCi",
        "colab_type": "code",
        "colab": {},
        "outputId": "cc72b999-fb47-4c1f-8006-00be13ca247a"
      },
      "cell_type": "code",
      "source": [
        "walk_time = Time('2019-02-19 12:00') # needs to be in UTC (5am MST =12pm UTC)\n",
        "aa = AltAz(location=LTO, obstime=walk_time)\n",
        "aa"
      ],
      "execution_count": 0,
      "outputs": [
        {
          "output_type": "execute_result",
          "data": {
            "text/plain": [
              "<AltAz Frame (obstime=2019-02-19 12:00:00.000, location=(-1268046.686085056, -4704542.525601694, 4104399.5432768688) m, pressure=0.0 hPa, temperature=0.0 deg_C, relative_humidity=0, obswl=1.0 micron)>"
            ]
          },
          "metadata": {
            "tags": []
          },
          "execution_count": 31
        }
      ]
    },
    {
      "metadata": {
        "id": "iYlVub2mHFCl",
        "colab_type": "code",
        "colab": {},
        "outputId": "5dc7d7fd-0db9-496e-eb50-58ee508fb414"
      },
      "cell_type": "code",
      "source": [
        "SagAStar.transform_to(aa)"
      ],
      "execution_count": 0,
      "outputs": [
        {
          "output_type": "execute_result",
          "data": {
            "text/plain": [
              "<SkyCoord (AltAz: obstime=2019-02-19 12:00:00.000, location=(-1268046.686085056, -4704542.525601694, 4104399.5432768688) m, pressure=0.0 hPa, temperature=0.0 deg_C, relative_humidity=0, obswl=1.0 micron): (az, alt) in deg\n",
              "    ( 142.98581997,  10.18632586)>"
            ]
          },
          "metadata": {
            "tags": []
          },
          "execution_count": 32
        }
      ]
    },
    {
      "metadata": {
        "id": "UkZe8_TvHFCp",
        "colab_type": "text"
      },
      "cell_type": "markdown",
      "source": [
        "Approximately 10 degrees above the horizon in the southeast sky at 5 AM on February 18, 2019."
      ]
    },
    {
      "metadata": {
        "id": "JcAp6-DxHFCq",
        "colab_type": "code",
        "colab": {}
      },
      "cell_type": "code",
      "source": [
        "from astropy.coordinates import ICRS"
      ],
      "execution_count": 0,
      "outputs": []
    },
    {
      "metadata": {
        "id": "u7UOGWyoHFCs",
        "colab_type": "code",
        "colab": {}
      },
      "cell_type": "code",
      "source": [
        "LTO = EarthLocation(lat=LTO_Latitude*u.degree, lon=LTO_Longitude*u.degree, height=LTO_Elevation_m)\n",
        "obs_time=Time('2018-08-05 19:08:13') # UT\n",
        "aa = AltAz(location=LTO, obstime=obs_time,\n",
        "          az = 180.3*u.degree,\n",
        "          alt= 66.5*u.degree)\n",
        "ltort_icrs = aa.transform_to(ICRS)"
      ],
      "execution_count": 0,
      "outputs": []
    },
    {
      "metadata": {
        "id": "cA4usmmyHFCw",
        "colab_type": "code",
        "colab": {},
        "outputId": "ec47801f-b34b-4b37-b848-91600d73b89d"
      },
      "cell_type": "code",
      "source": [
        "ltort_icrs.ra.hour, ltort_icrs.dec.degree"
      ],
      "execution_count": 0,
      "outputs": [
        {
          "output_type": "execute_result",
          "data": {
            "text/plain": [
              "(9.058361991081979, 16.872688564694386)"
            ]
          },
          "metadata": {
            "tags": []
          },
          "execution_count": 42
        }
      ]
    },
    {
      "metadata": {
        "id": "3BA2XIUkHFC0",
        "colab_type": "code",
        "colab": {}
      },
      "cell_type": "code",
      "source": [
        ""
      ],
      "execution_count": 0,
      "outputs": []
    }
  ]
}