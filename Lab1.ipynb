{
  "nbformat": 4,
  "nbformat_minor": 0,
  "metadata": {
    "colab": {
      "name": "Lab1.ipynb",
      "version": "0.3.2",
      "provenance": [],
      "include_colab_link": true
    },
    "kernelspec": {
      "name": "python3",
      "display_name": "Python 3"
    }
  },
  "cells": [
    {
      "cell_type": "markdown",
      "metadata": {
        "id": "view-in-github",
        "colab_type": "text"
      },
      "source": [
        "<a href=\"https://colab.research.google.com/github/kevinmcmanus/Astrophysics/blob/master/Lab1.ipynb\" target=\"_parent\"><img src=\"https://colab.research.google.com/assets/colab-badge.svg\" alt=\"Open In Colab\"/></a>"
      ]
    },
    {
      "cell_type": "markdown",
      "metadata": {
        "id": "gIqbLSvpUZYQ",
        "colab_type": "text"
      },
      "source": [
        "# Lab I: The Colorado Model Solar System\n",
        "\n",
        "Kevin McManus"
      ]
    },
    {
      "cell_type": "code",
      "metadata": {
        "id": "hLfzqHKaUSYJ",
        "colab_type": "code",
        "cellView": "form",
        "colab": {}
      },
      "source": [
        "#@title\n",
        "import numpy as np\n",
        "import pandas as pd\n",
        "\n",
        "import matplotlib.pyplot as plt\n",
        "%matplotlib inline"
      ],
      "execution_count": 0,
      "outputs": []
    },
    {
      "cell_type": "code",
      "metadata": {
        "id": "dFwJTehkUwEt",
        "colab_type": "code",
        "cellView": "form",
        "colab": {}
      },
      "source": [
        "#@title\n",
        "obs = pd.DataFrame([\n",
        "    ('Sun',     5614, 'Grapefruit', 1,         1,          1,    1),\n",
        "    ('Mercury', 5622, 'dot',        58.7*24.0, 88,         0.38, 0.056),\n",
        "    ('Venus',   5634, 'dot',       -243*24.0,  225,        0.95, 0.62),\n",
        "    ('Earth',   5640, 'dot',        23.9,      365,        1,    1),\n",
        "    ('Mars',    5653, 'dot',        24.6,      1.88*365.3, 0.53, 0.11),\n",
        "    ('Jupiter', 5731, 'marble',     9.8,       11.9*365.3, 11.3, 317.9),\n",
        "    ('Reset1',  5749, 'marble',     1.0,       1.0,        1.0,  1.0),\n",
        "    ('Saturn',  5840, 'marble',     10.2,      29.5*365.3, 9.4,  95.1),\n",
        "    ('Uranus',  6080, 'spec',       17.15,     84.92*365.3,4.0,  14.4),\n",
        "    ('Reset2',  6105, 'spec',       1.0,       1.0,        1.0,   1.0),\n",
        "    ('Neptune', 6297, 'spec',       16.1,      165*365.3,  3.9,  17.1),\n",
        "    ('Pluto',   6360, 'spec',       6.4*24,    248*365.3,   18,  0.002)\n",
        "], columns = ['Name','Fitbit', 'ModeledShape','Rotation', 'OrbitalPeriod',\n",
        "             'Radius','Mass'])"
      ],
      "execution_count": 0,
      "outputs": []
    },
    {
      "cell_type": "markdown",
      "metadata": {
        "id": "mM6mw6kAeSic",
        "colab_type": "text"
      },
      "source": [
        "## Observations gathered from Colorado Solar System Model"
      ]
    },
    {
      "cell_type": "code",
      "metadata": {
        "id": "WCh8G41Xa2qC",
        "colab_type": "code",
        "outputId": "69221d87-1219-4efd-9c9c-335312b6cbc2",
        "colab": {
          "base_uri": "https://localhost:8080/",
          "height": 421
        }
      },
      "source": [
        "obs"
      ],
      "execution_count": 0,
      "outputs": [
        {
          "output_type": "execute_result",
          "data": {
            "text/html": [
              "<div>\n",
              "<style scoped>\n",
              "    .dataframe tbody tr th:only-of-type {\n",
              "        vertical-align: middle;\n",
              "    }\n",
              "\n",
              "    .dataframe tbody tr th {\n",
              "        vertical-align: top;\n",
              "    }\n",
              "\n",
              "    .dataframe thead th {\n",
              "        text-align: right;\n",
              "    }\n",
              "</style>\n",
              "<table border=\"1\" class=\"dataframe\">\n",
              "  <thead>\n",
              "    <tr style=\"text-align: right;\">\n",
              "      <th></th>\n",
              "      <th>Name</th>\n",
              "      <th>Fitbit</th>\n",
              "      <th>ModeledShape</th>\n",
              "      <th>Rotation</th>\n",
              "      <th>OrbitalPeriod</th>\n",
              "      <th>Radius</th>\n",
              "      <th>Mass</th>\n",
              "    </tr>\n",
              "  </thead>\n",
              "  <tbody>\n",
              "    <tr>\n",
              "      <th>0</th>\n",
              "      <td>Sun</td>\n",
              "      <td>5614</td>\n",
              "      <td>Grapefruit</td>\n",
              "      <td>1.00</td>\n",
              "      <td>1.000</td>\n",
              "      <td>1.00</td>\n",
              "      <td>1.000</td>\n",
              "    </tr>\n",
              "    <tr>\n",
              "      <th>1</th>\n",
              "      <td>Mercury</td>\n",
              "      <td>5622</td>\n",
              "      <td>dot</td>\n",
              "      <td>1408.80</td>\n",
              "      <td>88.000</td>\n",
              "      <td>0.38</td>\n",
              "      <td>0.056</td>\n",
              "    </tr>\n",
              "    <tr>\n",
              "      <th>2</th>\n",
              "      <td>Venus</td>\n",
              "      <td>5634</td>\n",
              "      <td>dot</td>\n",
              "      <td>-5832.00</td>\n",
              "      <td>225.000</td>\n",
              "      <td>0.95</td>\n",
              "      <td>0.620</td>\n",
              "    </tr>\n",
              "    <tr>\n",
              "      <th>3</th>\n",
              "      <td>Earth</td>\n",
              "      <td>5640</td>\n",
              "      <td>dot</td>\n",
              "      <td>23.90</td>\n",
              "      <td>365.000</td>\n",
              "      <td>1.00</td>\n",
              "      <td>1.000</td>\n",
              "    </tr>\n",
              "    <tr>\n",
              "      <th>4</th>\n",
              "      <td>Mars</td>\n",
              "      <td>5653</td>\n",
              "      <td>dot</td>\n",
              "      <td>24.60</td>\n",
              "      <td>686.764</td>\n",
              "      <td>0.53</td>\n",
              "      <td>0.110</td>\n",
              "    </tr>\n",
              "    <tr>\n",
              "      <th>5</th>\n",
              "      <td>Jupiter</td>\n",
              "      <td>5731</td>\n",
              "      <td>marble</td>\n",
              "      <td>9.80</td>\n",
              "      <td>4347.070</td>\n",
              "      <td>11.30</td>\n",
              "      <td>317.900</td>\n",
              "    </tr>\n",
              "    <tr>\n",
              "      <th>6</th>\n",
              "      <td>Reset1</td>\n",
              "      <td>5749</td>\n",
              "      <td>marble</td>\n",
              "      <td>1.00</td>\n",
              "      <td>1.000</td>\n",
              "      <td>1.00</td>\n",
              "      <td>1.000</td>\n",
              "    </tr>\n",
              "    <tr>\n",
              "      <th>7</th>\n",
              "      <td>Saturn</td>\n",
              "      <td>5840</td>\n",
              "      <td>marble</td>\n",
              "      <td>10.20</td>\n",
              "      <td>10776.350</td>\n",
              "      <td>9.40</td>\n",
              "      <td>95.100</td>\n",
              "    </tr>\n",
              "    <tr>\n",
              "      <th>8</th>\n",
              "      <td>Uranus</td>\n",
              "      <td>6080</td>\n",
              "      <td>spec</td>\n",
              "      <td>17.15</td>\n",
              "      <td>31021.276</td>\n",
              "      <td>4.00</td>\n",
              "      <td>14.400</td>\n",
              "    </tr>\n",
              "    <tr>\n",
              "      <th>9</th>\n",
              "      <td>Reset2</td>\n",
              "      <td>6105</td>\n",
              "      <td>spec</td>\n",
              "      <td>1.00</td>\n",
              "      <td>1.000</td>\n",
              "      <td>1.00</td>\n",
              "      <td>1.000</td>\n",
              "    </tr>\n",
              "    <tr>\n",
              "      <th>10</th>\n",
              "      <td>Neptune</td>\n",
              "      <td>6297</td>\n",
              "      <td>spec</td>\n",
              "      <td>16.10</td>\n",
              "      <td>60274.500</td>\n",
              "      <td>3.90</td>\n",
              "      <td>17.100</td>\n",
              "    </tr>\n",
              "    <tr>\n",
              "      <th>11</th>\n",
              "      <td>Pluto</td>\n",
              "      <td>6360</td>\n",
              "      <td>spec</td>\n",
              "      <td>153.60</td>\n",
              "      <td>90594.400</td>\n",
              "      <td>18.00</td>\n",
              "      <td>0.002</td>\n",
              "    </tr>\n",
              "  </tbody>\n",
              "</table>\n",
              "</div>"
            ],
            "text/plain": [
              "       Name  Fitbit ModeledShape  Rotation  OrbitalPeriod  Radius     Mass\n",
              "0       Sun    5614   Grapefruit      1.00          1.000    1.00    1.000\n",
              "1   Mercury    5622          dot   1408.80         88.000    0.38    0.056\n",
              "2     Venus    5634          dot  -5832.00        225.000    0.95    0.620\n",
              "3     Earth    5640          dot     23.90        365.000    1.00    1.000\n",
              "4      Mars    5653          dot     24.60        686.764    0.53    0.110\n",
              "5   Jupiter    5731       marble      9.80       4347.070   11.30  317.900\n",
              "6    Reset1    5749       marble      1.00          1.000    1.00    1.000\n",
              "7    Saturn    5840       marble     10.20      10776.350    9.40   95.100\n",
              "8    Uranus    6080         spec     17.15      31021.276    4.00   14.400\n",
              "9    Reset2    6105         spec      1.00          1.000    1.00    1.000\n",
              "10  Neptune    6297         spec     16.10      60274.500    3.90   17.100\n",
              "11    Pluto    6360         spec    153.60      90594.400   18.00    0.002"
            ]
          },
          "metadata": {
            "tags": []
          },
          "execution_count": 3
        }
      ]
    },
    {
      "cell_type": "code",
      "metadata": {
        "id": "Dlrph-5Pa4Yl",
        "colab_type": "code",
        "cellView": "form",
        "colab": {}
      },
      "source": [
        "#@title\n",
        "# calculate delta steps\n",
        "obs['DeltaSteps'] = obs.Fitbit - obs.Fitbit.shift(1)\n"
      ],
      "execution_count": 0,
      "outputs": []
    },
    {
      "cell_type": "code",
      "metadata": {
        "id": "7TFKwyFbczPS",
        "colab_type": "code",
        "cellView": "form",
        "colab": {}
      },
      "source": [
        "#@title\n",
        "#ditch the sun and reset rows\n",
        "obs.drop([0,6,9], inplace=True)"
      ],
      "execution_count": 0,
      "outputs": []
    },
    {
      "cell_type": "code",
      "metadata": {
        "id": "1gkJI1KQdw6g",
        "colab_type": "code",
        "cellView": "form",
        "colab": {}
      },
      "source": [
        "#@title\n",
        "# calculate cumulative steps\n",
        "obs['CumulativeSteps'] = np.cumsum(obs.DeltaSteps)"
      ],
      "execution_count": 0,
      "outputs": []
    },
    {
      "cell_type": "markdown",
      "metadata": {
        "id": "0JgWwheXewai",
        "colab_type": "text"
      },
      "source": [
        "## Calculate Interplanetary Distance\n",
        "\n",
        "Estimated distance calculated by scaling up (by one to 10 billion) the number of steps times the stride length in kilometers per step."
      ]
    },
    {
      "cell_type": "code",
      "metadata": {
        "id": "pFI2yD05eEL0",
        "colab_type": "code",
        "colab": {}
      },
      "source": [
        "kmPerStep = 7.462e-4 # kilometers per step per Fitbit\n",
        "ScaleFactor = 1e10 # one to 10 billion"
      ],
      "execution_count": 0,
      "outputs": []
    },
    {
      "cell_type": "code",
      "metadata": {
        "id": "L0bdPiM5e4ge",
        "colab_type": "code",
        "colab": {}
      },
      "source": [
        "# Estimated distance from Sun in km\n",
        "obs['EstDist'] = obs.CumulativeSteps * kmPerStep * ScaleFactor"
      ],
      "execution_count": 0,
      "outputs": []
    },
    {
      "cell_type": "code",
      "metadata": {
        "id": "xc6gNlpAfZQQ",
        "colab_type": "code",
        "outputId": "5f2784de-d5ea-4d8e-d129-4b002e259fe7",
        "colab": {
          "base_uri": "https://localhost:8080/",
          "height": 328
        }
      },
      "source": [
        "obs"
      ],
      "execution_count": 0,
      "outputs": [
        {
          "output_type": "execute_result",
          "data": {
            "text/html": [
              "<div>\n",
              "<style scoped>\n",
              "    .dataframe tbody tr th:only-of-type {\n",
              "        vertical-align: middle;\n",
              "    }\n",
              "\n",
              "    .dataframe tbody tr th {\n",
              "        vertical-align: top;\n",
              "    }\n",
              "\n",
              "    .dataframe thead th {\n",
              "        text-align: right;\n",
              "    }\n",
              "</style>\n",
              "<table border=\"1\" class=\"dataframe\">\n",
              "  <thead>\n",
              "    <tr style=\"text-align: right;\">\n",
              "      <th></th>\n",
              "      <th>Name</th>\n",
              "      <th>Fitbit</th>\n",
              "      <th>ModeledShape</th>\n",
              "      <th>Rotation</th>\n",
              "      <th>OrbitalPeriod</th>\n",
              "      <th>Radius</th>\n",
              "      <th>Mass</th>\n",
              "      <th>DeltaSteps</th>\n",
              "      <th>CumulativeSteps</th>\n",
              "      <th>EstDist</th>\n",
              "    </tr>\n",
              "  </thead>\n",
              "  <tbody>\n",
              "    <tr>\n",
              "      <th>1</th>\n",
              "      <td>Mercury</td>\n",
              "      <td>5622</td>\n",
              "      <td>dot</td>\n",
              "      <td>1408.80</td>\n",
              "      <td>88.000</td>\n",
              "      <td>0.38</td>\n",
              "      <td>0.056</td>\n",
              "      <td>8.0</td>\n",
              "      <td>8.0</td>\n",
              "      <td>5.969600e+07</td>\n",
              "    </tr>\n",
              "    <tr>\n",
              "      <th>2</th>\n",
              "      <td>Venus</td>\n",
              "      <td>5634</td>\n",
              "      <td>dot</td>\n",
              "      <td>-5832.00</td>\n",
              "      <td>225.000</td>\n",
              "      <td>0.95</td>\n",
              "      <td>0.620</td>\n",
              "      <td>12.0</td>\n",
              "      <td>20.0</td>\n",
              "      <td>1.492400e+08</td>\n",
              "    </tr>\n",
              "    <tr>\n",
              "      <th>3</th>\n",
              "      <td>Earth</td>\n",
              "      <td>5640</td>\n",
              "      <td>dot</td>\n",
              "      <td>23.90</td>\n",
              "      <td>365.000</td>\n",
              "      <td>1.00</td>\n",
              "      <td>1.000</td>\n",
              "      <td>6.0</td>\n",
              "      <td>26.0</td>\n",
              "      <td>1.940120e+08</td>\n",
              "    </tr>\n",
              "    <tr>\n",
              "      <th>4</th>\n",
              "      <td>Mars</td>\n",
              "      <td>5653</td>\n",
              "      <td>dot</td>\n",
              "      <td>24.60</td>\n",
              "      <td>686.764</td>\n",
              "      <td>0.53</td>\n",
              "      <td>0.110</td>\n",
              "      <td>13.0</td>\n",
              "      <td>39.0</td>\n",
              "      <td>2.910180e+08</td>\n",
              "    </tr>\n",
              "    <tr>\n",
              "      <th>5</th>\n",
              "      <td>Jupiter</td>\n",
              "      <td>5731</td>\n",
              "      <td>marble</td>\n",
              "      <td>9.80</td>\n",
              "      <td>4347.070</td>\n",
              "      <td>11.30</td>\n",
              "      <td>317.900</td>\n",
              "      <td>78.0</td>\n",
              "      <td>117.0</td>\n",
              "      <td>8.730540e+08</td>\n",
              "    </tr>\n",
              "    <tr>\n",
              "      <th>7</th>\n",
              "      <td>Saturn</td>\n",
              "      <td>5840</td>\n",
              "      <td>marble</td>\n",
              "      <td>10.20</td>\n",
              "      <td>10776.350</td>\n",
              "      <td>9.40</td>\n",
              "      <td>95.100</td>\n",
              "      <td>91.0</td>\n",
              "      <td>208.0</td>\n",
              "      <td>1.552096e+09</td>\n",
              "    </tr>\n",
              "    <tr>\n",
              "      <th>8</th>\n",
              "      <td>Uranus</td>\n",
              "      <td>6080</td>\n",
              "      <td>spec</td>\n",
              "      <td>17.15</td>\n",
              "      <td>31021.276</td>\n",
              "      <td>4.00</td>\n",
              "      <td>14.400</td>\n",
              "      <td>240.0</td>\n",
              "      <td>448.0</td>\n",
              "      <td>3.342976e+09</td>\n",
              "    </tr>\n",
              "    <tr>\n",
              "      <th>10</th>\n",
              "      <td>Neptune</td>\n",
              "      <td>6297</td>\n",
              "      <td>spec</td>\n",
              "      <td>16.10</td>\n",
              "      <td>60274.500</td>\n",
              "      <td>3.90</td>\n",
              "      <td>17.100</td>\n",
              "      <td>192.0</td>\n",
              "      <td>640.0</td>\n",
              "      <td>4.775680e+09</td>\n",
              "    </tr>\n",
              "    <tr>\n",
              "      <th>11</th>\n",
              "      <td>Pluto</td>\n",
              "      <td>6360</td>\n",
              "      <td>spec</td>\n",
              "      <td>153.60</td>\n",
              "      <td>90594.400</td>\n",
              "      <td>18.00</td>\n",
              "      <td>0.002</td>\n",
              "      <td>63.0</td>\n",
              "      <td>703.0</td>\n",
              "      <td>5.245786e+09</td>\n",
              "    </tr>\n",
              "  </tbody>\n",
              "</table>\n",
              "</div>"
            ],
            "text/plain": [
              "       Name  Fitbit ModeledShape  ...  DeltaSteps  CumulativeSteps       EstDist\n",
              "1   Mercury    5622          dot  ...         8.0              8.0  5.969600e+07\n",
              "2     Venus    5634          dot  ...        12.0             20.0  1.492400e+08\n",
              "3     Earth    5640          dot  ...         6.0             26.0  1.940120e+08\n",
              "4      Mars    5653          dot  ...        13.0             39.0  2.910180e+08\n",
              "5   Jupiter    5731       marble  ...        78.0            117.0  8.730540e+08\n",
              "7    Saturn    5840       marble  ...        91.0            208.0  1.552096e+09\n",
              "8    Uranus    6080         spec  ...       240.0            448.0  3.342976e+09\n",
              "10  Neptune    6297         spec  ...       192.0            640.0  4.775680e+09\n",
              "11    Pluto    6360         spec  ...        63.0            703.0  5.245786e+09\n",
              "\n",
              "[9 rows x 10 columns]"
            ]
          },
          "metadata": {
            "tags": []
          },
          "execution_count": 9
        }
      ]
    },
    {
      "cell_type": "code",
      "metadata": {
        "id": "LpuR1LXpfaYb",
        "colab_type": "code",
        "cellView": "form",
        "colab": {}
      },
      "source": [
        "#@title\n",
        "# actual distance in km\n",
        "obs['ActualDistance'] = [57.9e6,108.2e6, 149.6e6, 227.9e6, 778.3e6, 1427e6, 2870e6, 4497e6, 5906e6]"
      ],
      "execution_count": 0,
      "outputs": []
    },
    {
      "cell_type": "code",
      "metadata": {
        "id": "94w1iFM0gfIz",
        "colab_type": "code",
        "cellView": "form",
        "outputId": "67309d71-df6a-4dc7-f2e7-ba54a033e1ed",
        "colab": {
          "base_uri": "https://localhost:8080/",
          "height": 328
        }
      },
      "source": [
        "#@title\n",
        "obs[['ActualDistance', 'EstDist']]"
      ],
      "execution_count": 0,
      "outputs": [
        {
          "output_type": "execute_result",
          "data": {
            "text/html": [
              "<div>\n",
              "<style scoped>\n",
              "    .dataframe tbody tr th:only-of-type {\n",
              "        vertical-align: middle;\n",
              "    }\n",
              "\n",
              "    .dataframe tbody tr th {\n",
              "        vertical-align: top;\n",
              "    }\n",
              "\n",
              "    .dataframe thead th {\n",
              "        text-align: right;\n",
              "    }\n",
              "</style>\n",
              "<table border=\"1\" class=\"dataframe\">\n",
              "  <thead>\n",
              "    <tr style=\"text-align: right;\">\n",
              "      <th></th>\n",
              "      <th>ActualDistance</th>\n",
              "      <th>EstDist</th>\n",
              "    </tr>\n",
              "  </thead>\n",
              "  <tbody>\n",
              "    <tr>\n",
              "      <th>1</th>\n",
              "      <td>5.790000e+07</td>\n",
              "      <td>5.969600e+07</td>\n",
              "    </tr>\n",
              "    <tr>\n",
              "      <th>2</th>\n",
              "      <td>1.082000e+08</td>\n",
              "      <td>1.492400e+08</td>\n",
              "    </tr>\n",
              "    <tr>\n",
              "      <th>3</th>\n",
              "      <td>1.496000e+08</td>\n",
              "      <td>1.940120e+08</td>\n",
              "    </tr>\n",
              "    <tr>\n",
              "      <th>4</th>\n",
              "      <td>2.279000e+08</td>\n",
              "      <td>2.910180e+08</td>\n",
              "    </tr>\n",
              "    <tr>\n",
              "      <th>5</th>\n",
              "      <td>7.783000e+08</td>\n",
              "      <td>8.730540e+08</td>\n",
              "    </tr>\n",
              "    <tr>\n",
              "      <th>7</th>\n",
              "      <td>1.427000e+09</td>\n",
              "      <td>1.552096e+09</td>\n",
              "    </tr>\n",
              "    <tr>\n",
              "      <th>8</th>\n",
              "      <td>2.870000e+09</td>\n",
              "      <td>3.342976e+09</td>\n",
              "    </tr>\n",
              "    <tr>\n",
              "      <th>10</th>\n",
              "      <td>4.497000e+09</td>\n",
              "      <td>4.775680e+09</td>\n",
              "    </tr>\n",
              "    <tr>\n",
              "      <th>11</th>\n",
              "      <td>5.906000e+09</td>\n",
              "      <td>5.245786e+09</td>\n",
              "    </tr>\n",
              "  </tbody>\n",
              "</table>\n",
              "</div>"
            ],
            "text/plain": [
              "    ActualDistance       EstDist\n",
              "1     5.790000e+07  5.969600e+07\n",
              "2     1.082000e+08  1.492400e+08\n",
              "3     1.496000e+08  1.940120e+08\n",
              "4     2.279000e+08  2.910180e+08\n",
              "5     7.783000e+08  8.730540e+08\n",
              "7     1.427000e+09  1.552096e+09\n",
              "8     2.870000e+09  3.342976e+09\n",
              "10    4.497000e+09  4.775680e+09\n",
              "11    5.906000e+09  5.245786e+09"
            ]
          },
          "metadata": {
            "tags": []
          },
          "execution_count": 11
        }
      ]
    },
    {
      "cell_type": "code",
      "metadata": {
        "id": "qlciMC4Y-NX2",
        "colab_type": "code",
        "cellView": "form",
        "colab": {}
      },
      "source": [
        "#@title\n",
        "def r_squared(y, y_hat):\n",
        "  y_bar = y.mean()\n",
        "  ss_tot = ((y-y_bar)**2).sum()\n",
        "  ss_resid = ((y-y_hat)**2).sum()\n",
        "  r_sq = (1.0 - (ss_resid/ss_tot))\n",
        "  \n",
        "  return r_sq"
      ],
      "execution_count": 0,
      "outputs": []
    },
    {
      "cell_type": "code",
      "metadata": {
        "id": "DR6ynKVK-w56",
        "colab_type": "code",
        "cellView": "form",
        "colab": {}
      },
      "source": [
        "#@title\n",
        "def rmse(y, y_hat):\n",
        "  # calculates root mean squared error (RMSE)\n",
        "  n = len(y)\n",
        "  mse = ((y-y_hat)**2).sum()/float(n)\n",
        "  return np.sqrt(mse)"
      ],
      "execution_count": 0,
      "outputs": []
    },
    {
      "cell_type": "code",
      "metadata": {
        "colab_type": "code",
        "id": "BY0jrZbgfolG",
        "cellView": "form",
        "colab": {}
      },
      "source": [
        "#@title\n",
        "AstronomicalUnit = 1.496e8 # km"
      ],
      "execution_count": 0,
      "outputs": []
    },
    {
      "cell_type": "code",
      "metadata": {
        "id": "IrRPNB4xIPQi",
        "colab_type": "code",
        "cellView": "form",
        "colab": {}
      },
      "source": [
        "#@title\n",
        "from decimal import Decimal"
      ],
      "execution_count": 0,
      "outputs": []
    },
    {
      "cell_type": "markdown",
      "metadata": {
        "id": "kNcCw6VEf3_G",
        "colab_type": "text"
      },
      "source": [
        "## Plot Actual and Predicted Distance from Sun"
      ]
    },
    {
      "cell_type": "code",
      "metadata": {
        "id": "3fGW6-tyi-T2",
        "colab_type": "code",
        "cellView": "form",
        "outputId": "5881aa9b-23f2-4277-eb07-3228c6f112cc",
        "colab": {
          "base_uri": "https://localhost:8080/",
          "height": 491
        }
      },
      "source": [
        "#@title\n",
        "fig = plt.figure(figsize=(12,7))\n",
        "ax = fig.add_subplot(1, 1, 1)\n",
        "\n",
        "for p in obs.itertuples():\n",
        "  ax.scatter(p.ActualDistance, p.EstDist, label=p.Name, s=50)\n",
        "\n",
        "ax.plot(np.linspace(min(obs.ActualDistance),max(obs.ActualDistance),20),\n",
        "        np.linspace(min(obs.ActualDistance),max(obs.ActualDistance),20),'k--',\n",
        "       label = '1-1 agreement') # plot 1-1 agreement line\n",
        "\n",
        "ax.text(0.1, 0.9, f\"$R^2$: {round(r_squared(obs.ActualDistance, obs.EstDist),3)}\\n\"\n",
        "        f\"$RMSE$: {round(rmse(obs.ActualDistance, obs.EstDist)/AstronomicalUnit,2)} $A.U.$\"\n",
        "         \"\\nStep Size: %.2E km/step\" %kmPerStep +\n",
        "         \"\\nScale Factor: 1:%.2E\" % ScaleFactor,\n",
        "        bbox=dict(facecolor='white', alpha=0.5, edgecolor='black'),\n",
        "         ha=\"left\", va=\"center\",transform=ax.transAxes)\n",
        "\n",
        "ax.set_yscale('log')\n",
        "ax.set_xscale('log')\n",
        "ax.set_xlabel('$log(Actual Distance)\\enspace(km)$',fontsize=15)\n",
        "ax.set_ylabel('$log(Predicted Distance)\\enspace (km)$',fontsize=15)\n",
        "ax.grid()\n",
        "ax.legend(loc='lower right')\n",
        "_=ax.set_title('Actual and Predicted Distance from Sun\\n Double Log Scale', fontsize=15)"
      ],
      "execution_count": 0,
      "outputs": [
        {
          "output_type": "display_data",
          "data": {
            "image/png": "[encoded data removed]",
            "text/plain": [
              "<Figure size 864x504 with 1 Axes>"
            ]
          },
          "metadata": {
            "tags": []
          }
        }
      ]
    },
    {
      "cell_type": "markdown",
      "metadata": {
        "id": "GkiIURr8LW8g",
        "colab_type": "text"
      },
      "source": [
        "# A Study of Planetary Density"
      ]
    },
    {
      "cell_type": "markdown",
      "metadata": {
        "id": "3slCLD7rTXCc",
        "colab_type": "text"
      },
      "source": [
        "## Plot of Planetary Mass versus Radius\n",
        "\n",
        "While walking the Solar System Model, I was struck by the variation in planetary size (a planet's radius in multiples of the Earth's) and its mass (also in multiples of the Earth's mass). This observation caused me to wonder if there's any pattern that would lead to insight.\n",
        "\n",
        "The figure below shows a planet's mass plotted as a function of its radius.  The planets appear to fall along a parabolic curve, maybe."
      ]
    },
    {
      "cell_type": "code",
      "metadata": {
        "id": "92LGBHmQTvGV",
        "colab_type": "code",
        "cellView": "form",
        "outputId": "3aa4bd7b-feb1-4ce1-c32d-bcd99b89c59d",
        "colab": {
          "base_uri": "https://localhost:8080/",
          "height": 469
        }
      },
      "source": [
        "#@title\n",
        "fig = plt.figure(figsize=(12,7))\n",
        "ax = fig.add_subplot(1, 1, 1)\n",
        "\n",
        "for p in obs.itertuples():\n",
        "  ax.scatter(p.Radius, p.Mass, label=p.Name, s=50)\n",
        "\n",
        "\n",
        "\n",
        "\n",
        "\n",
        "ax.set_xlabel('$Planet\\enspace Radius\\enspace(Earth Multiple)$',fontsize=15)\n",
        "ax.set_ylabel('$Planet\\enspace Mass\\enspace (Earth Multiple)$',fontsize=15)\n",
        "ax.grid()\n",
        "ax.legend(loc='lower right')\n",
        "_=ax.set_title('Planet Mass versus Planet Radius', fontsize=15)"
      ],
      "execution_count": 0,
      "outputs": [
        {
          "output_type": "display_data",
          "data": {
            "image/png": "[encoded data removed]",
            "text/plain": [
              "<Figure size 864x504 with 1 Axes>"
            ]
          },
          "metadata": {
            "tags": []
          }
        }
      ]
    },
    {
      "cell_type": "markdown",
      "metadata": {
        "id": "pAC0gzz0TiD0",
        "colab_type": "text"
      },
      "source": [
        "## Planetary Density Relative to that of Earth"
      ]
    },
    {
      "cell_type": "markdown",
      "metadata": {
        "id": "XX4iDiTpLdzx",
        "colab_type": "text"
      },
      "source": [
        "The graph above can't provide inference as to whether a planet is more massive just because it is larger or perhaps its elemental composition is different.\n",
        "\n",
        "Looking at a planet's density might provide some insight.\n",
        "Density is a measure of mass per unit of volume.  That two planets have similar densities might support a theory that their compositions are similar dispite the planets having disimilar sizes and masses.\n",
        "\n",
        "The volume of a sphere is given by:\n",
        "$$\n",
        "V = \\frac{4}{3}\\pi r^3\n",
        "$$\n",
        "\n",
        "If the radius of the sphere increases by a factor of $2$, the volume will increase by a factor of $2^3$ or 8. Thus if a planet is twice the diameter of the Earth, it's mass will need to be 8-fold that of Earth to maintain equal density.\n",
        "\n",
        "Suppose Planet $P_2$ with radius $r_2$ and mass $m_2$, where $r_2 = k*r_{Earth}$ and $m_2 = l*m_{Earth}$.\n",
        "\n",
        "Density of Planet $P_2$:\n",
        "$$\n",
        "D_2 = m_2/V_2\n",
        "$$\n",
        "$$D_2 = \\frac{l*m_{Earth}}{\\frac{4}{3}\\pi (kr_{Earth})^3}\n",
        "$$\n",
        "Ratio of densities:\n",
        "$$\n",
        "\\frac{D_2}{D_{Earth}} =\\frac\n",
        "{\\frac{l*m_{Earth}}{\\frac{4}{3}\\pi (kr_{Earth})^3}}\n",
        "{\\frac{m_{Earth}}{\\frac{4}{3}\\pi (r_{Earth})^3}}\n",
        "$$\n",
        "$$\n",
        "\\frac{D_2}{D_{Earth}} =\\frac{l}{k^3}\n",
        "$$\n",
        "\n",
        "so the multiple of the density of Planet $P_2$ to that of Earth is the ratio of $P_2$'s Earth mass-multiple divided by the cube of $P_2$'s Earth-diameter multiple."
      ]
    },
    {
      "cell_type": "code",
      "metadata": {
        "id": "eJosvtwULb2j",
        "colab_type": "code",
        "cellView": "both",
        "colab": {}
      },
      "source": [
        "#@title\n",
        "#compute relative density. Both Mass and Radius are in Earth-multiples\n",
        "obs['RelativeDensity'] = obs.Mass/obs.Radius**3"
      ],
      "execution_count": 0,
      "outputs": []
    },
    {
      "cell_type": "code",
      "metadata": {
        "id": "c30swk5MWLO6",
        "colab_type": "code",
        "outputId": "a607589d-23db-484d-cfa1-cea52ef5d2a4",
        "colab": {
          "base_uri": "https://localhost:8080/",
          "height": 328
        }
      },
      "source": [
        "obs[['Name','Radius','Mass','RelativeDensity']]"
      ],
      "execution_count": 0,
      "outputs": [
        {
          "output_type": "execute_result",
          "data": {
            "text/html": [
              "<div>\n",
              "<style scoped>\n",
              "    .dataframe tbody tr th:only-of-type {\n",
              "        vertical-align: middle;\n",
              "    }\n",
              "\n",
              "    .dataframe tbody tr th {\n",
              "        vertical-align: top;\n",
              "    }\n",
              "\n",
              "    .dataframe thead th {\n",
              "        text-align: right;\n",
              "    }\n",
              "</style>\n",
              "<table border=\"1\" class=\"dataframe\">\n",
              "  <thead>\n",
              "    <tr style=\"text-align: right;\">\n",
              "      <th></th>\n",
              "      <th>Name</th>\n",
              "      <th>Radius</th>\n",
              "      <th>Mass</th>\n",
              "      <th>RelativeDensity</th>\n",
              "    </tr>\n",
              "  </thead>\n",
              "  <tbody>\n",
              "    <tr>\n",
              "      <th>1</th>\n",
              "      <td>Mercury</td>\n",
              "      <td>0.38</td>\n",
              "      <td>0.056</td>\n",
              "      <td>1.020557e+00</td>\n",
              "    </tr>\n",
              "    <tr>\n",
              "      <th>2</th>\n",
              "      <td>Venus</td>\n",
              "      <td>0.95</td>\n",
              "      <td>0.620</td>\n",
              "      <td>7.231375e-01</td>\n",
              "    </tr>\n",
              "    <tr>\n",
              "      <th>3</th>\n",
              "      <td>Earth</td>\n",
              "      <td>1.00</td>\n",
              "      <td>1.000</td>\n",
              "      <td>1.000000e+00</td>\n",
              "    </tr>\n",
              "    <tr>\n",
              "      <th>4</th>\n",
              "      <td>Mars</td>\n",
              "      <td>0.53</td>\n",
              "      <td>0.110</td>\n",
              "      <td>7.388650e-01</td>\n",
              "    </tr>\n",
              "    <tr>\n",
              "      <th>5</th>\n",
              "      <td>Jupiter</td>\n",
              "      <td>11.30</td>\n",
              "      <td>317.900</td>\n",
              "      <td>2.203206e-01</td>\n",
              "    </tr>\n",
              "    <tr>\n",
              "      <th>7</th>\n",
              "      <td>Saturn</td>\n",
              "      <td>9.40</td>\n",
              "      <td>95.100</td>\n",
              "      <td>1.144978e-01</td>\n",
              "    </tr>\n",
              "    <tr>\n",
              "      <th>8</th>\n",
              "      <td>Uranus</td>\n",
              "      <td>4.00</td>\n",
              "      <td>14.400</td>\n",
              "      <td>2.250000e-01</td>\n",
              "    </tr>\n",
              "    <tr>\n",
              "      <th>10</th>\n",
              "      <td>Neptune</td>\n",
              "      <td>3.90</td>\n",
              "      <td>17.100</td>\n",
              "      <td>2.882719e-01</td>\n",
              "    </tr>\n",
              "    <tr>\n",
              "      <th>11</th>\n",
              "      <td>Pluto</td>\n",
              "      <td>18.00</td>\n",
              "      <td>0.002</td>\n",
              "      <td>3.429355e-07</td>\n",
              "    </tr>\n",
              "  </tbody>\n",
              "</table>\n",
              "</div>"
            ],
            "text/plain": [
              "       Name  Radius     Mass  RelativeDensity\n",
              "1   Mercury    0.38    0.056     1.020557e+00\n",
              "2     Venus    0.95    0.620     7.231375e-01\n",
              "3     Earth    1.00    1.000     1.000000e+00\n",
              "4      Mars    0.53    0.110     7.388650e-01\n",
              "5   Jupiter   11.30  317.900     2.203206e-01\n",
              "7    Saturn    9.40   95.100     1.144978e-01\n",
              "8    Uranus    4.00   14.400     2.250000e-01\n",
              "10  Neptune    3.90   17.100     2.882719e-01\n",
              "11    Pluto   18.00    0.002     3.429355e-07"
            ]
          },
          "metadata": {
            "tags": []
          },
          "execution_count": 40
        }
      ]
    },
    {
      "cell_type": "code",
      "metadata": {
        "id": "gCSI9a8ZW8xo",
        "colab_type": "code",
        "cellView": "form",
        "outputId": "2ac1d5cb-e280-4cb9-dac5-bcd284e14529",
        "colab": {
          "base_uri": "https://localhost:8080/",
          "height": 460
        }
      },
      "source": [
        "#@title\n",
        "fig = plt.figure(figsize=(12,7))\n",
        "ax = fig.add_subplot(1, 1, 1)\n",
        "\n",
        "y_pos = np.arange(len(obs))\n",
        "ax.barh(y_pos, obs.RelativeDensity)\n",
        "\n",
        "ax.set_yticks(y_pos)\n",
        "ax.set_ylabel('$Planet$', fontsize=15)\n",
        "ax.set_xlabel('Density as Multiple of Earth Density')\n",
        "ax.grid(axis='x')\n",
        "ax.set_title('Relative Density by Planet', fontsize=15)\n",
        "_=ax.set_yticklabels(obs.Name)"
      ],
      "execution_count": 0,
      "outputs": [
        {
          "output_type": "display_data",
          "data": {
            "image/png": "[encoded data removed]",
            "text/plain": [
              "<Figure size 864x504 with 1 Axes>"
            ]
          },
          "metadata": {
            "tags": []
          }
        }
      ]
    },
    {
      "cell_type": "markdown",
      "metadata": {
        "id": "eBba0PZ-c-kO",
        "colab_type": "text"
      },
      "source": [
        "The figure above shows each planet's density relative to that of Planet Earth.  Mercury and Earth have about the same density, Mars and Venus are about the same but different from Earth, and Saturn, Jupiter, Neptune and Uranus exhibit much lower densities.  Pluto doesn't even move the needle!"
      ]
    }
  ]
}