{
  "nbformat": 4,
  "nbformat_minor": 0,
  "metadata": {
    "colab": {
      "name": "numpy.ipynb",
      "provenance": [],
      "toc_visible": true,
      "authorship_tag": "ABX9TyMhcBRbYAgfQ078a2/JVDlM",
      "include_colab_link": true
    },
    "kernelspec": {
      "name": "python3",
      "display_name": "Python 3"
    }
  },
  "cells": [
    {
      "cell_type": "markdown",
      "metadata": {
        "id": "view-in-github",
        "colab_type": "text"
      },
      "source": [
        "<a href=\"https://colab.research.google.com/github/kevinmcmanus/Astrophysics/blob/master/numpy.ipynb\" target=\"_parent\"><img src=\"https://colab.research.google.com/assets/colab-badge.svg\" alt=\"Open In Colab\"/></a>"
      ]
    },
    {
      "cell_type": "markdown",
      "metadata": {
        "id": "ik020HK0cxeF"
      },
      "source": [
        "# `numpy` for Data Scientists"
      ]
    },
    {
      "cell_type": "markdown",
      "metadata": {
        "id": "W_ULz-rgf2Re"
      },
      "source": [
        "In here, we'll illustrate just a tiny fraction of the capabilities of `numpy`, Python's library for scientific and mathematical computing. Data Scientists use `numpy` extensively in data wrangling, exploratory data analysis and modeling. `numpy` is fast, efficient and capable as you shall soon see.\r\n",
        "\r\n",
        "The data and examples included here come from an Astronomy project concerning the Pleiades star cluster, visible on winter nights to the right of Orion's belt. We'll give you a little astronomy background so that you'll have some context, but the main intent is to demonstrate the capabilities of `numpy` so that you can apply them to your domain."
      ]
    },
    {
      "cell_type": "code",
      "metadata": {
        "id": "oOEtlymE6Wz2"
      },
      "source": [
        "#Every notebook should start with this! \r\n",
        "import pandas as pd\r\n",
        "import numpy as np\r\n",
        "import matplotlib.pyplot as plt"
      ],
      "execution_count": null,
      "outputs": []
    },
    {
      "cell_type": "code",
      "metadata": {
        "id": "ypRMX2ki6gWk"
      },
      "source": [
        "# read data files into pandas dataframes\r\n",
        "\r\n",
        "pleiades = pd.read_csv( 'https://focods.s3.us-east-2.amazonaws.com/search_results_Pleiades.csv')\r\n"
      ],
      "execution_count": null,
      "outputs": []
    },
    {
      "cell_type": "code",
      "metadata": {
        "id": "CfICCXPj8OL7"
      },
      "source": [
        "pleiades.head()"
      ],
      "execution_count": null,
      "outputs": []
    },
    {
      "cell_type": "markdown",
      "metadata": {
        "id": "_noctX5VdN7_"
      },
      "source": [
        "The data frame above is the result of searching the Gaia database for stars within a certain radius of the Pleiades' center. Gaia is a space-based telescope and its database includes observations for over 1.7 billion stars.  The data frame has one record for each star in the search results.\r\n",
        "\r\n",
        "The data frame columns are as follows:\r\n",
        "\r\n",
        "|Column Name|Description|\r\n",
        "| --- | --- |\r\n",
        "|source_id|Unique identifier for each star|\r\n",
        "|ra|right ascension - longitude in the sky (degrees)|\r\n",
        "|dec| declination - latitude in the sky (degrees)|\r\n",
        "|parallax|parallax angle (milliarcseconds)|\r\n",
        "|pmra|proper motion in right ascension (mas/year)\r\n",
        "|pmdec|proper motion in declinatin (mas/year)\r\n",
        "|radial_velocity| motion toward or away from observer (km/s)\r\n",
        "|phot_g_mean_mag| apparent brightness (mag)\r\n",
        "|phot_bp_mean_mag| apparent brightness through blue filter (mag)\r\n",
        "|phot_rp_mean_mag| apparent brightness through red filter (mag)\r\n",
        "|ruwe| measure of quality of observation, less is more\r\n",
        "|r_est| estimated distance of object from earth/sun (parsec)"
      ]
    },
    {
      "cell_type": "markdown",
      "metadata": {
        "id": "gqlOSi7DXREs"
      },
      "source": [
        "## Element-wise Trig Operations\r\n",
        "\r\n",
        "We'll illustrate some element-wise operations using coordinate transformations as motivating examples."
      ]
    },
    {
      "cell_type": "markdown",
      "metadata": {
        "id": "WdFacN0MA6A5"
      },
      "source": [
        "### Spherical to Cartesian Coordinates\r\n",
        "\r\n",
        "In here, we'll demonstrate some basic trig operations by converting spherical coordinates to cartesian and back again. We'll show how to make a result periodic.\r\n",
        "\r\n",
        "* spherical coords typically specified as $(r, \\phi, \\theta)$\r\n",
        "    * r: distance from origin\r\n",
        "    * $\\phi$ angle in plane of equator wrt zero line\r\n",
        "    * $\\theta$ elevation angle above equator, **measured from North Pole**\r\n",
        "* earth/sun at center\r\n",
        "* $RA_0$ points to vernal equinox\r\n",
        "* $\\phi$ = $RA$ denoted $\\alpha$\r\n",
        "* $\\delta$ is complement of $\\theta$, that is $\\theta = 90^\\circ - \\delta$ called **declination**\r\n",
        "\r\n",
        "Then\r\n",
        "\r\n",
        "\\begin{align*}\r\n",
        "x  & = r\\ sin(\\theta)\\ cos(\\phi) \\\\y &= r\\ sin(\\theta)\\ sin(\\phi)\\\\z &= r\\ cos(\\theta)\r\n",
        "\\end{align*}\r\n",
        "\r\n",
        "Note: $\\delta = \\frac{\\pi}{2} - \\theta$ then $cos\\ \\theta =\\ sin(\\frac{\\pi}{2} - \\theta) = sin(\\delta)$ and similarly  $sin\\ \\theta =\\ cos(\\frac{\\pi}{2} - \\theta) = cos(\\delta)$ so we can ditch the $\\theta$ term above and measure up from the equator like normal people. Rewrite the transformation as:\r\n",
        "\r\n",
        "\\begin{align*}\r\n",
        "x  & = r\\ cos(\\delta)\\ cos(\\alpha) \\\\y &= r\\ cos(\\delta)\\ sin(\\alpha)\\\\z &= r\\ sin(\\delta)\r\n",
        "\\end{align*}\r\n",
        "\r\n",
        "which gives us Cartesian coordinates in terms of right ascension $\\alpha$, declination $\\delta$ and distance $r$.\r\n",
        "\r\n",
        "Rewrite again as:\r\n",
        "$$\r\n",
        "\\mathbf{R}\\ =\\ \r\n",
        "\\begin{bmatrix} x\\\\ y \\\\z \\end{bmatrix} =  \r\n",
        " r  \\begin{bmatrix} cos\\delta\\cos\\alpha \\\\ cos\\delta\\sin\\alpha \\\\sin\\delta \\end{bmatrix}\r\n",
        "$$\r\n"
      ]
    },
    {
      "cell_type": "code",
      "metadata": {
        "id": "Y8lFPCM4--eg"
      },
      "source": [
        "def spherical_to_cartesian(alpha, delta, r):\r\n",
        "  \"\"\"\r\n",
        "  Returns 3xN cartesian coords from alpha, delta and r\r\n",
        "  Alpha, Delta in degrees, r in some unit of length, here assumed to be parsec\r\n",
        "  return value has one row each for {x,y,z} in that order\r\n",
        "  \"\"\"\r\n",
        "  # convert degrees to radians\r\n",
        "  alpha_rad = np.radians(alpha)\r\n",
        "  delta_rad = np.radians(delta)\r\n",
        "\r\n",
        "  #do the transformation\r\n",
        "  x = r * np.cos(delta_rad)*np.cos(alpha_rad)\r\n",
        "  y = r * np.cos(delta_rad)*np.sin(alpha_rad)\r\n",
        "  z = r * np.sin(delta_rad)\r\n",
        "  \r\n",
        "  #package up and return\r\n",
        "  xyz = np.array([x, y, z])\r\n",
        "  return xyz"
      ],
      "execution_count": null,
      "outputs": []
    },
    {
      "cell_type": "code",
      "metadata": {
        "id": "Qyznsq5oGzWA"
      },
      "source": [
        "pleiades_xyz = spherical_to_cartesian(pleiades.ra, pleiades.dec, pleiades.r_est)"
      ],
      "execution_count": null,
      "outputs": []
    },
    {
      "cell_type": "code",
      "metadata": {
        "id": "0VGTCxNFG8Da"
      },
      "source": [
        "pleiades_xyz.shape"
      ],
      "execution_count": null,
      "outputs": []
    },
    {
      "cell_type": "code",
      "metadata": {
        "id": "I2ypg68hkRJx"
      },
      "source": [
        "#look at the distribution of xyz values versus their respective means:\r\n",
        "center = pleiades_xyz.mean(axis=1)\r\n",
        "fig = plt.figure(figsize=(18,6))\r\n",
        "ax = fig.subplots(1,3)\r\n",
        "for i,d in enumerate(list('xyz')):\r\n",
        "  ax[i].hist(pleiades_xyz[i],bins=50, label='values', alpha=0.5)\r\n",
        "  ax[i].axvline(center[i], label='mean', color='red')\r\n",
        "  ax[i].set_title(f'Axis: {d}')\r\n",
        "  ax[i].set_ylabel('Number of Points')\r\n",
        "  ax[i].set_xlabel('Distance from Sun (pc)')\r\n",
        "  ax[i].legend()\r\n"
      ],
      "execution_count": null,
      "outputs": []
    },
    {
      "cell_type": "markdown",
      "metadata": {
        "id": "9U_MmcAZIM7I"
      },
      "source": [
        "### Cartesian to Spherical"
      ]
    },
    {
      "cell_type": "markdown",
      "metadata": {
        "id": "sxKoC7iEIB_G"
      },
      "source": [
        "Here's how:\r\n",
        "\r\n",
        "\\begin{align*}\r\n",
        "\\alpha &= arctan2(y, x) \\\\\r\n",
        "\\delta &= arctan(z/\\sqrt{x^2 + y^2}) \\\\\r\n",
        "r &= \\sqrt{x^2 + y^2 + z^2}\r\n",
        "\\end{align*}\r\n"
      ]
    },
    {
      "cell_type": "code",
      "metadata": {
        "id": "nUHCP3ItHTIf"
      },
      "source": [
        "def cartesian_to_spherical(xyz):\r\n",
        "  \"\"\"\r\n",
        "  converts cartesian coords to spherical\r\n",
        "  Argument:\r\n",
        "    xyz: 3xN array where x is row 0, y row 1  and z row 2\r\n",
        "  Returns:\r\n",
        "    dictionary with members distance, alpha and delta\r\n",
        "  \"\"\"\r\n",
        "\r\n",
        "  #calculate r, the Euclidean distance from origin\r\n",
        "  r = np.sqrt((xyz**2).sum(axis=0))\r\n",
        "  \r\n",
        "  #calculate delta or declination (latitude), result between -pi/2 and pi/2\r\n",
        "  delta = np.arctan(xyz[2]/np.sqrt(xyz[0]**2+xyz[1]**2))\r\n",
        "  \r\n",
        "  #calculate alpha or right ascension(longitude), result between 0 and pi\r\n",
        "  #(3rd and 4th quadrants returned as <0)\r\n",
        "  alpha = np.arctan2(xyz[1], xyz[0])\r\n",
        "  # deal with negative longitudes \r\n",
        "  alpha = np.remainder(alpha+2.0*np.pi, 2.0*np.pi)\r\n",
        "    \r\n",
        "  #make a dict for result, convert radians to degrees in the process\r\n",
        "  spherical = {'distance':r,\r\n",
        "                'alpha': np.rad2deg(alpha),\r\n",
        "                'delta': np.rad2deg(delta)\r\n",
        "  }\r\n",
        "  \r\n",
        "  return spherical\r\n",
        "    "
      ],
      "execution_count": null,
      "outputs": []
    },
    {
      "cell_type": "code",
      "metadata": {
        "id": "ZpABm4tjKsjb"
      },
      "source": [
        "pleiades_spherical = cartesian_to_spherical(pleiades_xyz)"
      ],
      "execution_count": null,
      "outputs": []
    },
    {
      "cell_type": "code",
      "metadata": {
        "id": "Zl_oQ6KJK6Pf"
      },
      "source": [
        "#did reverse transformation work?\r\n",
        "(np.allclose(pleiades.ra,pleiades_spherical['alpha']),\r\n",
        "np.allclose(pleiades.dec,pleiades_spherical['delta']),\r\n",
        "np.allclose(pleiades.r_est,pleiades_spherical['distance']))"
      ],
      "execution_count": null,
      "outputs": []
    },
    {
      "cell_type": "markdown",
      "metadata": {
        "id": "yNEa_eXlOVFt"
      },
      "source": [
        "### Make the Result Periodic\r\n",
        "\r\n",
        "The function above `cartesian_to_spherical` made use of `np.remainder`. Let's see what that does."
      ]
    },
    {
      "cell_type": "code",
      "metadata": {
        "id": "HXo-e2qNLGH7"
      },
      "source": [
        "#what does np.remainder do?\r\n",
        "zz=np.arange(-10,10)\r\n",
        "zr = np.remainder(zz+5,5)\r\n",
        "pd.DataFrame({'Input':zz, 'Output':zr})"
      ],
      "execution_count": null,
      "outputs": []
    },
    {
      "cell_type": "markdown",
      "metadata": {
        "id": "pnSei3qOUbGX"
      },
      "source": [
        "## Dealing with Differing Numbers of Dimensions"
      ]
    },
    {
      "cell_type": "markdown",
      "metadata": {
        "id": "0TzLwvP0jt7o"
      },
      "source": [
        "We will calculate each point's distance from another point, say a centertroid to illustrate dealing with arrays with differing numbers of dimensions. We'll show how to force `numpy` how to iterate over the dimension you want.\r\n",
        "\r\n",
        "To illustrate, we will calculate each star's distance from a centerpoint as follows:\r\n",
        "\r\n",
        "$$\r\n",
        "d_i = \\sqrt{(x_i-x_C)^2 + (y_i-y_C)^2 + (z_i-z_C)^2}\r\n",
        "$$\r\n",
        "\r\n",
        "for each star $i$ and center $C$"
      ]
    },
    {
      "cell_type": "code",
      "metadata": {
        "id": "7RtrpCXrMG81"
      },
      "source": [
        "#quick & dirty centroid\r\n",
        "# get mean xyz values (mean of each row)\r\n",
        "center = pleiades_xyz.mean(axis=1)\r\n",
        "center"
      ],
      "execution_count": null,
      "outputs": []
    },
    {
      "cell_type": "code",
      "metadata": {
        "id": "n03RVCYXkFGJ"
      },
      "source": [
        "pleiades_xyz.shape, center.shape"
      ],
      "execution_count": null,
      "outputs": []
    },
    {
      "cell_type": "markdown",
      "metadata": {
        "id": "bcxPwgaJpiyD"
      },
      "source": [
        "### Quick Aside: Dealing with Arrays with Different Numbers of Dimensions\r\n",
        "\r\n",
        "Suppose you have a 3x3 matrix and a 3 element vector. If you perform an operation with the two, will `numpy` iterate across the columns or down the rows?"
      ]
    },
    {
      "cell_type": "code",
      "metadata": {
        "id": "7QuDYN2LkWRH"
      },
      "source": [
        "# a 2d array\r\n",
        "xx = np.array([[10,20,30],[40, 50, 60],[70,80,90]]);\r\n",
        "xx"
      ],
      "execution_count": null,
      "outputs": []
    },
    {
      "cell_type": "code",
      "metadata": {
        "id": "7qo0ATSVnsm_"
      },
      "source": [
        "#a 1d array\r\n",
        "yy = np.array([5,15, 20])\r\n",
        "yy"
      ],
      "execution_count": null,
      "outputs": []
    },
    {
      "cell_type": "code",
      "metadata": {
        "id": "__jiSBclnz6O"
      },
      "source": [
        "xx.shape, yy.shape"
      ],
      "execution_count": null,
      "outputs": []
    },
    {
      "cell_type": "code",
      "metadata": {
        "id": "OBK1mgZom4HH"
      },
      "source": [
        "# can these be subtracted? (yes, but maybe not the way we want!!)\r\n",
        "xx-yy"
      ],
      "execution_count": null,
      "outputs": []
    },
    {
      "cell_type": "code",
      "metadata": {
        "id": "BDR5CxAvnJ4Z"
      },
      "source": [
        "#to force the operation the way we need it to  work,\r\n",
        "# make yy a column vector\r\n",
        "yy.reshape(-1,1)"
      ],
      "execution_count": null,
      "outputs": []
    },
    {
      "cell_type": "code",
      "metadata": {
        "id": "oD9muwKTnez9"
      },
      "source": [
        "# now the subtraction works across the columns\r\n",
        "xx-yy.reshape(-1,1)"
      ],
      "execution_count": null,
      "outputs": []
    },
    {
      "cell_type": "markdown",
      "metadata": {
        "id": "EFB_MKeLq_SB"
      },
      "source": [
        "### Back to computing distance from Center"
      ]
    },
    {
      "cell_type": "code",
      "metadata": {
        "id": "mUZ5ZqGCoSMV"
      },
      "source": [
        "# Calculate Euclidean distance from Center\r\n",
        "offsets = pleiades_xyz - center.reshape(-1,1) #to force correct broadcasting\r\n",
        "distances = np.sqrt((offsets**2).sum(axis=0)) #note axis=0 for getting the sum by column\r\n",
        "distances.shape"
      ],
      "execution_count": null,
      "outputs": []
    },
    {
      "cell_type": "code",
      "metadata": {
        "id": "cf87meRarjcN"
      },
      "source": [
        "fig = plt.figure(figsize=(9,6))\r\n",
        "ax = fig.subplots(1,1)\r\n",
        "\r\n",
        "ax.hist(distances, bins=50, alpha=0.5)\r\n",
        "ax.set_title('Distribution of Distance from Center')\r\n",
        "ax.set_ylabel('Number of Stars')\r\n",
        "ax.set_xlabel('Distance from Center (pc)')"
      ],
      "execution_count": null,
      "outputs": []
    },
    {
      "cell_type": "markdown",
      "metadata": {
        "id": "Q3x6gvYYuZlU"
      },
      "source": [
        "## Element-wise Choice of Values: `np.where`\r\n"
      ]
    },
    {
      "cell_type": "markdown",
      "metadata": {
        "id": "npxSIwpgU-AO"
      },
      "source": [
        "\r\n",
        "###Common Case: Dealing with NaN's\r\n",
        "\r\n",
        "For reasons beyond our current scope, relatively few stars have radial velocity measurements. Perhaps we want to supply a value in cases in which there is no observed value."
      ]
    },
    {
      "cell_type": "code",
      "metadata": {
        "id": "etgntSCjsJWe"
      },
      "source": [
        "pleiades.radial_velocity[:10]"
      ],
      "execution_count": null,
      "outputs": []
    },
    {
      "cell_type": "code",
      "metadata": {
        "id": "8JrOlzFQunXH"
      },
      "source": [
        "print(f'Pleiades missing {np.count_nonzero(np.isnan(pleiades.radial_velocity))} rv values out of {len(pleiades)} observations')"
      ],
      "execution_count": null,
      "outputs": []
    },
    {
      "cell_type": "code",
      "metadata": {
        "id": "TDmzKTiPva2w"
      },
      "source": [
        "#convenient that the mean method ignores missing values\r\n",
        "pleiades.radial_velocity.mean()"
      ],
      "execution_count": null,
      "outputs": []
    },
    {
      "cell_type": "code",
      "metadata": {
        "id": "vt7Tyd5ovuw2"
      },
      "source": [
        "# stuff in the mean of the rv values that we have when rv is missing\r\n",
        "mean_rv = pleiades.radial_velocity.mean()\r\n",
        "\r\n",
        "rv_full = np.where(np.isnan(pleiades.radial_velocity), mean_rv, pleiades.radial_velocity)"
      ],
      "execution_count": null,
      "outputs": []
    },
    {
      "cell_type": "code",
      "metadata": {
        "id": "7IeSuz0HxGP8"
      },
      "source": [
        "np.count_nonzero(np.isnan(rv_full)), np.count_nonzero(rv_full == mean_rv)"
      ],
      "execution_count": null,
      "outputs": []
    },
    {
      "cell_type": "markdown",
      "metadata": {
        "id": "IN85Zhqm5pxK"
      },
      "source": [
        "### Common Case: Discontinuous Function"
      ]
    },
    {
      "cell_type": "markdown",
      "metadata": {
        "id": "E__98afj6hfh"
      },
      "source": [
        "Sometimes functions are computed differently depending where in a domain an observation lies.\r\n",
        "Suppose, for example:\r\n",
        "\\begin{align*}\r\n",
        "y &= 3x\\ +\\ 2\\ for\\ x \\leq -6 \\\\\r\n",
        "y &= 4x\\ +\\ 8\\ for\\ x > -6\r\n",
        "\r\n",
        "\\end{align*}\r\n",
        "and we want a fast and efficient way to calculate $y$. `np.where` will do the trick."
      ]
    },
    {
      "cell_type": "code",
      "metadata": {
        "id": "SHYe44_K13yS"
      },
      "source": [
        "# create a range of x values\r\n",
        "x=np.linspace(-10,10, 10000)\r\n",
        "y1 = 3*x+2\r\n",
        "y2 = 4*x+8\r\n",
        "\r\n",
        "#use np.where to choose between the two y's\r\n",
        "y = np.where(x <= -6, y1, y2)"
      ],
      "execution_count": null,
      "outputs": []
    },
    {
      "cell_type": "code",
      "metadata": {
        "id": "DmX6ONpG7lVd"
      },
      "source": [
        "fig = plt.figure(figsize=(9,6))\r\n",
        "ax = fig.subplots(1,1)\r\n",
        "\r\n",
        "\r\n",
        "ax.plot(x,y, label='y', linewidth=10, alpha=0.3, color='red')\r\n",
        "ax.plot(x,y1,label='y=3x+2')\r\n",
        "ax.plot(x,y2, label='y=4x+8', color='black')\r\n",
        "\r\n",
        "\r\n",
        "ax.axvline(-6, ls='dashed', color='red',label='Discontinuity Point')\r\n",
        "ax.axhline(-16, ls='dashed', color='red')\r\n",
        "ax.legend()\r\n",
        "ax.set_title('Example of Discontinuous Function')"
      ],
      "execution_count": null,
      "outputs": []
    },
    {
      "cell_type": "markdown",
      "metadata": {
        "id": "0KCwFu8YQXEE"
      },
      "source": [
        "## Transposing and Reshaping\r\n",
        "\r\n",
        "Usually, your data array is not in the shape you need it to be. Here's how to rearrange things."
      ]
    },
    {
      "cell_type": "markdown",
      "metadata": {
        "id": "UzIRH3RBRGdE"
      },
      "source": [
        "### Simple Case"
      ]
    },
    {
      "cell_type": "code",
      "metadata": {
        "id": "lCwqGCmaBOnW"
      },
      "source": [
        "rng = np.arange(9)\r\n",
        "rng\r\n"
      ],
      "execution_count": null,
      "outputs": []
    },
    {
      "cell_type": "code",
      "metadata": {
        "id": "LTE6ca4RWh_v"
      },
      "source": [
        "#make an array whose values we can recognize\r\n",
        "a = np.array([rng+10*i for i in range(9)])\r\n",
        "a"
      ],
      "execution_count": null,
      "outputs": []
    },
    {
      "cell_type": "code",
      "metadata": {
        "id": "9S1ZJ97_WrPY"
      },
      "source": [
        "#reshape on the low order dimensions just grabs the next n values\r\n",
        "a.reshape((-1,3,3))"
      ],
      "execution_count": null,
      "outputs": []
    },
    {
      "cell_type": "code",
      "metadata": {
        "id": "UzJUYwa6YrVg"
      },
      "source": [
        "#transpose rearranges the elements\r\n",
        "a.transpose(1,0)"
      ],
      "execution_count": null,
      "outputs": []
    },
    {
      "cell_type": "code",
      "metadata": {
        "id": "XX7fWAGEWy9_"
      },
      "source": [
        "#reshaping this gives a very different result\r\n",
        "a.T.reshape(-1,3,3)"
      ],
      "execution_count": null,
      "outputs": []
    },
    {
      "cell_type": "markdown",
      "metadata": {
        "id": "DgFr0hRAQ877"
      },
      "source": [
        "### A More Complex Transformation"
      ]
    },
    {
      "cell_type": "markdown",
      "metadata": {
        "id": "5Q4sseaGZ8Eu"
      },
      "source": [
        "After some messy but straightforward Calculas, the derivative of $\\mathbf{R}$ with respect to time is:\r\n",
        "\r\n",
        "$$\r\n",
        "\\mathbf{\\dot{R}} = \r\n",
        "  \\begin{bmatrix} \\frac{dx}{dt}\\\\\\frac{dy}{dt}\\\\ \\frac{dz}{dt}\\end{bmatrix}\\ =\\ \r\n",
        "  \\begin{bmatrix}\r\n",
        "      \\cos\\alpha\\sin\\delta&-\\sin\\alpha & -\\cos\\alpha\\sin\\delta \\\\\r\n",
        "       \\sin\\alpha\\cos\\delta &\\cos\\alpha & -\\sin\\alpha\\sin\\delta \\\\\r\n",
        "       \\sin\\delta & 0 & \\cos\\delta \\\\ \r\n",
        "  \\end{bmatrix}\r\n",
        "  \\begin{bmatrix}\r\n",
        "      \\dot{R} \\\\ R\\dot{\\alpha}\\cos\\delta \\\\ R\\dot{\\delta}\r\n",
        "  \\end{bmatrix}\r\n",
        " $$\r\n",
        " where the terms on the right side are: $\\dot{R}$ is radial velocity, $R$ is distance from the observer, $\\dot{\\alpha}\\cos\\delta$ is proper motion in right ascension (`PMRA`), and $\\dot{\\delta}$ is proper motion in declination (`PMDec`). All of these quantities are available in the data frames we're working with.\r\n",
        "\r\n",
        "Note, $\\mathbf{\\dot{R}}$ is usually expressed in $km s^{-1}$ so there's a conversion factor (not shown) to convert PMRA and PMDec from milli-arcseconds per year to kilometers per second.\r\n",
        "Also, the Gaia Consortium (the data source) includes the $\\cos\\delta$ factor in its report of `PMRA` so we won't need to factor it in.\r\n",
        "\r\n",
        "How can we calculate $\\dot{\\mathbf{R}}$ efficiently? In the function below, note the construction of the derivative matrix (variable `dm`) and its reshaping. Note also the matrix multiplication to produce the space velocities."
      ]
    },
    {
      "cell_type": "code",
      "metadata": {
        "id": "NlZ15GxaXHrQ"
      },
      "source": [
        "def pm_to_dxyz(alpha, delta, distance, pm_alpha_cosdec, pm_delta, radial_velocity):\r\n",
        "  \"\"\"\r\n",
        "  Transforms proper motion & radial velocity to 3d space motion\r\n",
        "  Arguments:\r\n",
        "    alpha, delta: right ascension and declination in degrees\r\n",
        "    distance: distance from observer in parsec\r\n",
        "    pm_alpha_cosdec: proper motion in right ascension in mas/year including the cos(dec) term\r\n",
        "    pm_dec: proper motion in declination in mas/year\r\n",
        "    radial_velocity: in km/second\r\n",
        "  Returns:\r\n",
        "    3XN space velocity vector in km/second;\r\n",
        "      one row for each {dx, dy, dz}\r\n",
        "      one column for each star\r\n",
        "  \"\"\"\r\n",
        "  # radial_velocity in km/sec, so need convert the motions to km/s\r\n",
        "\r\n",
        "  mas_per_degree = 3.6e6\r\n",
        "  km_per_pc = 3.09e13\r\n",
        "  seconds_per_year = (60.0*60.0*24.0*365.0)\r\n",
        "\r\n",
        "  #how many stars we got?\r\n",
        "  N = len(alpha)\r\n",
        "\r\n",
        "  #get some radians\r\n",
        "  alpha_rad = np.radians(alpha)\r\n",
        "  delta_rad = np.radians(delta)\r\n",
        "  # the pm's are in milliarcseconds per year, so need to convert to degree per year\r\n",
        "  pm_alpha_rad = np.radians(pm_alpha_cosdec/mas_per_degree)\r\n",
        "  pm_delta_rad = np.radians(pm_delta/mas_per_degree)\r\n",
        "\r\n",
        "  #convert the pm's from radian per year to km per sec\r\n",
        "  v_ra =  pm_alpha_rad*distance*km_per_pc/seconds_per_year\r\n",
        "  v_dec = pm_delta_rad*distance*km_per_pc/seconds_per_year\r\n",
        "  \r\n",
        "  #form the velocity matrix in spherical coords.\r\n",
        "  # matrix is 3xN\r\n",
        "  eq_v = np.array([radial_velocity,v_ra, v_dec])\r\n",
        "\r\n",
        "  #form the derivative matrix\r\n",
        "  sin_alpha = np.sin(alpha_rad); cos_alpha = np.cos(alpha_rad)\r\n",
        "  sin_delta = np.sin(delta_rad); cos_delta = np.cos(delta_rad)\r\n",
        "  #shape will be 9xN, one row for each term, 1 col for each star\r\n",
        "  dm = np.array([cos_delta*cos_alpha, -sin_alpha,   -sin_delta*cos_alpha,\r\n",
        "                cos_delta*sin_alpha,   cos_alpha,   -sin_alpha*sin_delta,\r\n",
        "                sin_delta,             np.zeros(N),  cos_delta])\r\n",
        "  #transpose and reshape in to N 3x3 matrices (a 3-d array)\r\n",
        "  dm = dm.transpose(1,0).reshape(-1, 3, 3)\r\n",
        "  \r\n",
        "  #perform the transformation on each star individually\r\n",
        "  d_xyz = np.array([dm[i].dot(eq_v[:,i].reshape(3,1)) for i in range(N)])\r\n",
        "\r\n",
        "  #The dot product above yields an extra dimension that we don't need\r\n",
        "  #also, the result has one row for each star, but we want the stars on the columns\r\n",
        "  d_xyz = d_xyz.squeeze().transpose()\r\n",
        "  \r\n",
        "  #all done!\r\n",
        "  return d_xyz"
      ],
      "execution_count": null,
      "outputs": []
    },
    {
      "cell_type": "code",
      "metadata": {
        "id": "2h-1VHvFD5Ib"
      },
      "source": [
        "r_dot = pm_to_dxyz(pleiades.ra, pleiades.dec, pleiades.r_est, pleiades.pmra, pleiades.pmdec, rv_full)\r\n",
        "r_dot.shape"
      ],
      "execution_count": null,
      "outputs": []
    },
    {
      "cell_type": "code",
      "metadata": {
        "id": "TsfCLHhZFLzo"
      },
      "source": [
        "space_v_3d = np.sqrt((r_dot**2).sum(axis=0))\r\n",
        "med_v = np.median(space_v_3d)\r\n",
        "\r\n",
        "fig = plt.figure(figsize=(9,6))\r\n",
        "ax = fig.subplots(1,1)\r\n",
        "\r\n",
        "\r\n",
        "ax.hist(space_v_3d, label='3D Space Velocity', alpha=0.5, bins=50)\r\n",
        "ax.axvline(med_v, ls='dashed',color='red', label = f'Median: {med_v:.2f} km/s')\r\n",
        "ax.set_xlabel('Velocity (km/s)')\r\n",
        "ax.set_ylabel('Number of Stars')\r\n",
        "\r\n",
        "ax.legend()\r\n",
        "ax.set_title('Distribution of Space Velocities')"
      ],
      "execution_count": null,
      "outputs": []
    },
    {
      "cell_type": "markdown",
      "metadata": {
        "id": "JhWtSpM6FLfo"
      },
      "source": [
        "## More Matrix Multiplication"
      ]
    },
    {
      "cell_type": "markdown",
      "metadata": {
        "id": "Sf3XaQwaa4T0"
      },
      "source": [
        "Having $\\mathbf{R}$ and $\\mathbf{\\dot{R}}$ from above allows us to exptrapolate a star's position forward or backward in time via the following formula:"
      ]
    },
    {
      "cell_type": "markdown",
      "metadata": {
        "id": "q_HSdPd9L-TG"
      },
      "source": [
        "$$\r\n",
        "\\begin{align*}\r\n",
        "\\mathbf{R_t} &= \\mathbf{R_0} + \\Delta \\mathbf{R} \\\\\r\n",
        "\\Delta \\mathbf{R} &= \\mathbf{\\dot{R}}*\\Delta t\r\n",
        "\r\n",
        "\\end{align*}\r\n",
        " $$"
      ]
    },
    {
      "cell_type": "markdown",
      "metadata": {
        "id": "uqVHdnmfbVBS"
      },
      "source": [
        "The following cells demonstrate how to calculate $\\Delta\\mathbf{R}$ for an arbitrary vector of time deltas and then calculates $\\mathbf{R_t}$, that is the position at each of these arbitrary times.\r\n",
        "\r\n",
        "Then we'll write a function that does this calculation efficiently for all of the stars we have."
      ]
    },
    {
      "cell_type": "code",
      "metadata": {
        "id": "AS1VKftDL2Wk"
      },
      "source": [
        "# set up some values for demo purposes:\r\n",
        "\r\n",
        "# time deltas (note: these are time offsets from  t=0)\r\n",
        "# need these as row vector\r\n",
        "delta_t = np.array([10,20,30,40]).reshape(1,-1) # row vector of years, let's say\r\n",
        "\r\n",
        "#random 3d velocities as col vector\r\n",
        "r_dot_demo = np.array([4.33, 8.32, 5.43]).reshape(3,1)\r\n",
        "\r\n",
        "#initial position, r_zero\r\n",
        "r_zero_demo = np.array([50,60,70]).reshape(3,1) # some random point in 3D space"
      ],
      "execution_count": null,
      "outputs": []
    },
    {
      "cell_type": "code",
      "metadata": {
        "id": "lWNBz3t8PD1o"
      },
      "source": [
        "#to get x,y,z positional changes:\r\n",
        "#form dot product of 3x1 and 1xN to get 3xN, N=number of time deltas in this case\r\n",
        "r_dot_demo.dot(delta_t)"
      ],
      "execution_count": null,
      "outputs": []
    },
    {
      "cell_type": "code",
      "metadata": {
        "id": "1FCeO_WAPNp0"
      },
      "source": [
        "# (x,y,z) position at each time delta\r\n",
        "r_zero_demo + r_dot_demo.dot(delta_t)"
      ],
      "execution_count": null,
      "outputs": []
    },
    {
      "cell_type": "code",
      "metadata": {
        "id": "7o__nXERQvLi"
      },
      "source": [
        "def extrapolate_R(R, R_dot, delta_t):\r\n",
        "  \"\"\"\r\n",
        "  Computes 3d positions at delta_t times\r\n",
        "  Arguments:\r\n",
        "    R: 3xN array of initial positions dimensions {x,y,z} x Star (parsec)\r\n",
        "    R_dot: 3xN array of space velocity: {dx, dy, dz} x Star (km/s)\r\n",
        "    delta_t: 1xNt vector of time deltas at which to compute the position\r\n",
        "  Returns:\r\n",
        "    R_t: Nx3xNt array of star positions: {Stars x {x,y,z} x delta_t}\r\n",
        "  \"\"\"\r\n",
        "\r\n",
        "  assert R.shape == R_dot.shape\r\n",
        "\r\n",
        "  N = R.shape[1] # number of stars\r\n",
        "  Nt = len(delta_t) # number of time steps\r\n",
        "  km_per_pc = 3.09e13 # kilometers per parsec\r\n",
        "  seconds_per_year = (60.0*60.0*24.0*365.0)\r\n",
        "\r\n",
        "  if delta_t.ndim == 1:\r\n",
        "    dt = delta_t.reshape(1,-1)\r\n",
        "  elif delta_t.ndim == 2:\r\n",
        "    dt = delta_t\r\n",
        "  else:\r\n",
        "    raise ValueError(f'Invalid number of dims on delta_t: {delta_t.ndim}')\r\n",
        "\r\n",
        "  #make R and R_dot into column vectors and convert R_dot from km/s to pc per year\r\n",
        "  R_col = R.T.reshape(-1,1)\r\n",
        "  R_dot_col = R_dot.T.reshape(-1,1)*seconds_per_year/km_per_pc\r\n",
        "\r\n",
        "  #form positional changes\r\n",
        "  delta_R = R_dot_col.dot(dt)\r\n",
        "  R_t = R_col + delta_R\r\n",
        "\r\n",
        "  #rearrange R_t to be (stars x {x,y,z} x time)\r\n",
        "  R_t = R_t.reshape(N, 3, Nt)\r\n",
        "\r\n",
        "  return R_t"
      ],
      "execution_count": null,
      "outputs": []
    },
    {
      "cell_type": "code",
      "metadata": {
        "id": "aU5PeMltAgVh"
      },
      "source": [
        "#extrapolate teh stars over the last 100 Myr in steps of 1Mr\r\n",
        "Nt = 100\r\n",
        "delta_t = np.linspace(-100e6, 0, Nt+1)\r\n",
        "\r\n",
        "#get initial positions and 3d velocities\r\n",
        "R_0 = spherical_to_cartesian(pleiades.ra, pleiades.dec, pleiades.r_est)\r\n",
        "R_dot = pm_to_dxyz(pleiades.ra, pleiades.dec, pleiades.r_est, pleiades.pmra, pleiades.pmdec, rv_full)"
      ],
      "execution_count": null,
      "outputs": []
    },
    {
      "cell_type": "code",
      "metadata": {
        "id": "vBfxoCUfA-9k"
      },
      "source": [
        "R_t = extrapolate_R(R_0, R_dot, delta_t)"
      ],
      "execution_count": null,
      "outputs": []
    },
    {
      "cell_type": "code",
      "metadata": {
        "id": "Il6mtS9SBALd"
      },
      "source": [
        "#what did we get?\r\n",
        "R_t.shape, R_t.size"
      ],
      "execution_count": null,
      "outputs": []
    },
    {
      "cell_type": "code",
      "metadata": {
        "id": "-gPornu9CKBZ"
      },
      "source": [
        "#check Star #0, it's last extapolated position should be same as its starting position\r\n",
        "#since delta_t runs from -100 Myr to 0 (present)\r\n",
        "R_t[0,:,-1], R_0[:,0]"
      ],
      "execution_count": null,
      "outputs": []
    },
    {
      "cell_type": "code",
      "metadata": {
        "id": "F7V2NZFcD4Co"
      },
      "source": [
        "some_random_star = 555\r\n",
        "R_0[:,some_random_star], R_t[some_random_star,:, -1]"
      ],
      "execution_count": null,
      "outputs": []
    },
    {
      "cell_type": "code",
      "metadata": {
        "id": "D2UXnkT2JNb4"
      },
      "source": [
        "np.random.seed(1234)"
      ],
      "execution_count": null,
      "outputs": []
    },
    {
      "cell_type": "code",
      "metadata": {
        "id": "mONFUZZiFkaf"
      },
      "source": [
        "#make 3d plot for fun\r\n",
        "import matplotlib.pyplot as plt\r\n",
        "from mpl_toolkits.mplot3d import Axes3D\r\n",
        "\r\n",
        "#randomly pick a bunch of stars to plot in 3d\r\n",
        "n_stars_to_plot = 10\r\n",
        "star_i = np.random.choice(len(R_t), n_stars_to_plot, replace=False)\r\n",
        "\r\n",
        "fig = plt.figure(figsize=(8,6))\r\n",
        "ax = fig.add_subplot(111, projection='3d')\r\n",
        "for s in star_i:\r\n",
        "  #plot the x, y, and z coords, respectively\r\n",
        "  ax.plot(R_t[s][0],R_t[s][1],R_t[s][2])"
      ],
      "execution_count": null,
      "outputs": []
    },
    {
      "cell_type": "markdown",
      "metadata": {
        "id": "GaD0jFnnKOVz"
      },
      "source": [
        "## Conclusions"
      ]
    },
    {
      "cell_type": "markdown",
      "metadata": {
        "id": "XWK8YjjUKo0e"
      },
      "source": [
        "`numpy` is powerful and efficient, featuring a vast range of capabilities only a few of which we demonstrated here.  Careful shaping and re-shaping of data array enables computations on large data sets while economizing computation time and code.\r\n",
        "\r\n",
        "Here is a summary of the capabilities/functions we covered here:\r\n",
        "\r\n",
        "| Function/Method | Notes |\r\n",
        "| --- | --- |\r\n",
        "|`np.where`| element-wise choice of value, useful for implementing discontinuities|\r\n",
        "|`np.remainder`| produces periodic result |\r\n",
        "|`np.allclose`| test whether two arrays have element-wise the same values|\r\n",
        "|`np.radians`| converts degrees to radians; also inverse function `np.degrees`|\r\n",
        "|`np.cos,` et. al.| every trig function imaginable|\r\n",
        "|`np.transpose`| rearrange dimensions |\r\n",
        "|`np.dot`| produces dot product or matrix product\r\n",
        "|`np.reshape`| interprets the array in the shape specified\r\n",
        "|`np.squeeze`| gets rid of a length-1 dimension\r\n",
        "|`np.sum`, `np.mean` et. al.| compute all manner of summary statistics along specifiable dimensions.|\r\n",
        "|`np.sqrt` et. al.| all manner of math functions, e.g. `log`, `log10` etc\r\n",
        "|`np.random.choice`| make random selections with or without replacement|\r\n",
        "|broadcasting| how `numpy` determines which dimensions to iterate over and how to force it to do the one you want\r\n"
      ]
    },
    {
      "cell_type": "code",
      "metadata": {
        "id": "RTCUnduIH6zh"
      },
      "source": [
        ""
      ],
      "execution_count": null,
      "outputs": []
    }
  ]
}